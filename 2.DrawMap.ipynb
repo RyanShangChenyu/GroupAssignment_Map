{
 "cells": [
  {
   "cell_type": "markdown",
   "metadata": {},
   "source": [
    "# 绘制拍照地点分布地图\n",
    "\n",
    "作者：同济子豪兄 https://space.bilibili.com/1900783\n",
    "\n",
    "2022-4-29"
   ]
  },
  {
   "cell_type": "markdown",
   "metadata": {},
   "source": [
    "## 导入工具包"
   ]
  },
  {
   "cell_type": "code",
   "execution_count": 11,
   "metadata": {},
   "outputs": [],
   "source": [
    "import folium\n",
    "from folium import Marker\n",
    "\n",
    "import pandas as pd"
   ]
  },
  {
   "cell_type": "markdown",
   "metadata": {},
   "source": [
    "## 导入数据"
   ]
  },
  {
   "cell_type": "code",
   "execution_count": 12,
   "metadata": {},
   "outputs": [],
   "source": [
    "df = pd.read_csv('FileName&Infomation.csv')"
   ]
  },
  {
   "cell_type": "code",
   "execution_count": 13,
   "metadata": {},
   "outputs": [
    {
     "data": {
      "text/html": [
       "<div>\n",
       "<style scoped>\n",
       "    .dataframe tbody tr th:only-of-type {\n",
       "        vertical-align: middle;\n",
       "    }\n",
       "\n",
       "    .dataframe tbody tr th {\n",
       "        vertical-align: top;\n",
       "    }\n",
       "\n",
       "    .dataframe thead th {\n",
       "        text-align: right;\n",
       "    }\n",
       "</style>\n",
       "<table border=\"1\" class=\"dataframe\">\n",
       "  <thead>\n",
       "    <tr style=\"text-align: right;\">\n",
       "      <th></th>\n",
       "      <th>FileName</th>\n",
       "      <th>Latitude</th>\n",
       "      <th>Longitude</th>\n",
       "      <th>Time</th>\n",
       "    </tr>\n",
       "  </thead>\n",
       "  <tbody>\n",
       "    <tr>\n",
       "      <th>0</th>\n",
       "      <td>IMG_1560.jpg</td>\n",
       "      <td>22.305464</td>\n",
       "      <td>114.180053</td>\n",
       "      <td>2024:11:05 14:18:03</td>\n",
       "    </tr>\n",
       "  </tbody>\n",
       "</table>\n",
       "</div>"
      ],
      "text/plain": [
       "       FileName   Latitude   Longitude                 Time\n",
       "0  IMG_1560.jpg  22.305464  114.180053  2024:11:05 14:18:03"
      ]
     },
     "execution_count": 13,
     "metadata": {},
     "output_type": "execute_result"
    }
   ],
   "source": [
    "df.head()"
   ]
  },
  {
   "cell_type": "markdown",
   "metadata": {},
   "source": [
    "## 绘制大头钉标记图"
   ]
  },
  {
   "cell_type": "code",
   "execution_count": 14,
   "metadata": {},
   "outputs": [],
   "source": [
    "# 指定地图视野中心为所有经纬度的平均值\n",
    "location_center = [22.3042, 114.1800]"
   ]
  },
  {
   "cell_type": "code",
   "execution_count": 15,
   "metadata": {},
   "outputs": [
    {
     "data": {
      "text/plain": [
       "[22.3042, 114.18]"
      ]
     },
     "execution_count": 15,
     "metadata": {},
     "output_type": "execute_result"
    }
   ],
   "source": [
    "location_center"
   ]
  },
  {
   "cell_type": "code",
   "execution_count": 19,
   "metadata": {},
   "outputs": [],
   "source": [
    "# 初始化地图\n",
    "m = folium.Map(location=location_center, tiles='cartodbpositron', zoom_start=17, control_scale=True)\n",
    "\n",
    "## 加载地图插件\n",
    "\n",
    "# 插件-鼠标划动显示经纬度\n",
    "from folium.plugins import MousePosition\n",
    "formatter = \"function(num) {return L.Util.formatNum(num, 4) + ' º ';};\"\n",
    "plugin_hover = MousePosition(\n",
    "    position='topright',\n",
    "    separator=' | ',\n",
    "    empty_string='鼠标划动显示经纬度',\n",
    "    lng_first=False,\n",
    "    num_digits=20,\n",
    "    prefix='经纬度：',\n",
    "    lat_formatter=formatter,\n",
    "    lng_formatter=formatter,\n",
    ")\n",
    "m.add_child(plugin_hover)\n",
    "\n",
    "# 插件-鼠标点击显示经纬度\n",
    "plugin_click_LatLon = folium.LatLngPopup()\n",
    "m.add_child(plugin_click_LatLon)\n",
    "\n",
    "'''\n",
    "# 插件-缩略小地图\n",
    "minimap = folium.plugins.MiniMap(toggle_display=True,\n",
    "                         tile_layer='stamenwatercolor',\n",
    "                         position='bottomright',\n",
    "                         width=300, height=200,\n",
    "                         zoom_level_offset=-4)\n",
    "m.add_child(minimap)\n",
    "'''\n",
    "\n",
    "## 拍照位置打大头针标记\n",
    "for idx, row in df.iterrows(): # 遍历每一处拍照地点\n",
    "    \n",
    "    # 点击大头针后显示的页面\n",
    "\n",
    "    html = '''\n",
    "        <html>\n",
    "            <head><meta charset=\"utf-8\"></head>\n",
    "            <body>\n",
    "                <div style=\"width:300px;\"> \n",
    "                    <img src='images/{}' alt='图片' width='280px' style=\"height:auto;\">\n",
    "                    <p>File Name {} <br/> Latitude {} <br/> Longitude {} <br/> Time {}</p>\n",
    "                </div>\n",
    "            </body>\n",
    "        </html>\n",
    "'''.format(row['FileName'], row['FileName'], row['Latitude'], row['Longitude'], row['Time'])\n",
    "\n",
    "\n",
    "    \n",
    "    folium.Marker(\n",
    "        location=[row['Latitude'], row['Longitude']],\n",
    "        popup=html, # 点击大头针时显示的页面\n",
    "        tooltip=row['FileName'],  # 鼠标划过大头针时显示的页面\n",
    "        icon=folium.Icon(color='blue',icon='fa-building',prefix='fa') # FontAwesome图标：https://fontawesome.com/v4/icon/camera\n",
    "    ).add_to(m) "
   ]
  },
  {
   "cell_type": "code",
   "execution_count": 20,
   "metadata": {},
   "outputs": [
    {
     "data": {
      "text/html": [
       "<div style=\"width:100%;\"><div style=\"position:relative;width:100%;height:0;padding-bottom:60%;\"><span style=\"color:#565656\">Make this Notebook Trusted to load map: File -> Trust Notebook</span><iframe srcdoc=\"&lt;!DOCTYPE html&gt;\n",
       "&lt;html&gt;\n",
       "&lt;head&gt;\n",
       "    \n",
       "    &lt;meta http-equiv=&quot;content-type&quot; content=&quot;text/html; charset=UTF-8&quot; /&gt;\n",
       "    \n",
       "        &lt;script&gt;\n",
       "            L_NO_TOUCH = false;\n",
       "            L_DISABLE_3D = false;\n",
       "        &lt;/script&gt;\n",
       "    \n",
       "    &lt;style&gt;html, body {width: 100%;height: 100%;margin: 0;padding: 0;}&lt;/style&gt;\n",
       "    &lt;style&gt;#map {position:absolute;top:0;bottom:0;right:0;left:0;}&lt;/style&gt;\n",
       "    &lt;script src=&quot;https://cdn.jsdelivr.net/npm/leaflet@1.9.3/dist/leaflet.js&quot;&gt;&lt;/script&gt;\n",
       "    &lt;script src=&quot;https://code.jquery.com/jquery-3.7.1.min.js&quot;&gt;&lt;/script&gt;\n",
       "    &lt;script src=&quot;https://cdn.jsdelivr.net/npm/bootstrap@5.2.2/dist/js/bootstrap.bundle.min.js&quot;&gt;&lt;/script&gt;\n",
       "    &lt;script src=&quot;https://cdnjs.cloudflare.com/ajax/libs/Leaflet.awesome-markers/2.0.2/leaflet.awesome-markers.js&quot;&gt;&lt;/script&gt;\n",
       "    &lt;link rel=&quot;stylesheet&quot; href=&quot;https://cdn.jsdelivr.net/npm/leaflet@1.9.3/dist/leaflet.css&quot;/&gt;\n",
       "    &lt;link rel=&quot;stylesheet&quot; href=&quot;https://cdn.jsdelivr.net/npm/bootstrap@5.2.2/dist/css/bootstrap.min.css&quot;/&gt;\n",
       "    &lt;link rel=&quot;stylesheet&quot; href=&quot;https://netdna.bootstrapcdn.com/bootstrap/3.0.0/css/bootstrap-glyphicons.css&quot;/&gt;\n",
       "    &lt;link rel=&quot;stylesheet&quot; href=&quot;https://cdn.jsdelivr.net/npm/@fortawesome/fontawesome-free@6.2.0/css/all.min.css&quot;/&gt;\n",
       "    &lt;link rel=&quot;stylesheet&quot; href=&quot;https://cdnjs.cloudflare.com/ajax/libs/Leaflet.awesome-markers/2.0.2/leaflet.awesome-markers.css&quot;/&gt;\n",
       "    &lt;link rel=&quot;stylesheet&quot; href=&quot;https://cdn.jsdelivr.net/gh/python-visualization/folium/folium/templates/leaflet.awesome.rotate.min.css&quot;/&gt;\n",
       "    \n",
       "            &lt;meta name=&quot;viewport&quot; content=&quot;width=device-width,\n",
       "                initial-scale=1.0, maximum-scale=1.0, user-scalable=no&quot; /&gt;\n",
       "            &lt;style&gt;\n",
       "                #map_61151dc5e489e2369f6161495cb109a9 {\n",
       "                    position: relative;\n",
       "                    width: 100.0%;\n",
       "                    height: 100.0%;\n",
       "                    left: 0.0%;\n",
       "                    top: 0.0%;\n",
       "                }\n",
       "                .leaflet-container { font-size: 1rem; }\n",
       "            &lt;/style&gt;\n",
       "        \n",
       "    &lt;script src=&quot;https://cdn.jsdelivr.net/gh/ardhi/Leaflet.MousePosition/src/L.Control.MousePosition.min.js&quot;&gt;&lt;/script&gt;\n",
       "    &lt;link rel=&quot;stylesheet&quot; href=&quot;https://cdn.jsdelivr.net/gh/ardhi/Leaflet.MousePosition/src/L.Control.MousePosition.min.css&quot;/&gt;\n",
       "&lt;/head&gt;\n",
       "&lt;body&gt;\n",
       "    \n",
       "    \n",
       "            &lt;div class=&quot;folium-map&quot; id=&quot;map_61151dc5e489e2369f6161495cb109a9&quot; &gt;&lt;/div&gt;\n",
       "        \n",
       "&lt;/body&gt;\n",
       "&lt;script&gt;\n",
       "    \n",
       "    \n",
       "            var map_61151dc5e489e2369f6161495cb109a9 = L.map(\n",
       "                &quot;map_61151dc5e489e2369f6161495cb109a9&quot;,\n",
       "                {\n",
       "                    center: [22.3042, 114.18],\n",
       "                    crs: L.CRS.EPSG3857,\n",
       "                    zoom: 17,\n",
       "                    zoomControl: true,\n",
       "                    preferCanvas: false,\n",
       "                }\n",
       "            );\n",
       "            L.control.scale().addTo(map_61151dc5e489e2369f6161495cb109a9);\n",
       "\n",
       "            \n",
       "\n",
       "        \n",
       "    \n",
       "            var tile_layer_99bb9e0a7e576c79e0a513245d610f6c = L.tileLayer(\n",
       "                &quot;https://{s}.basemaps.cartocdn.com/light_all/{z}/{x}/{y}{r}.png&quot;,\n",
       "                {&quot;attribution&quot;: &quot;\\u0026copy; \\u003ca href=\\&quot;https://www.openstreetmap.org/copyright\\&quot;\\u003eOpenStreetMap\\u003c/a\\u003e contributors \\u0026copy; \\u003ca href=\\&quot;https://carto.com/attributions\\&quot;\\u003eCARTO\\u003c/a\\u003e&quot;, &quot;detectRetina&quot;: false, &quot;maxNativeZoom&quot;: 20, &quot;maxZoom&quot;: 20, &quot;minZoom&quot;: 0, &quot;noWrap&quot;: false, &quot;opacity&quot;: 1, &quot;subdomains&quot;: &quot;abcd&quot;, &quot;tms&quot;: false}\n",
       "            );\n",
       "        \n",
       "    \n",
       "            tile_layer_99bb9e0a7e576c79e0a513245d610f6c.addTo(map_61151dc5e489e2369f6161495cb109a9);\n",
       "        \n",
       "    \n",
       "            var mouse_position_c561671d3593ca7b70837fd1da4e213e = new L.Control.MousePosition(\n",
       "                {&quot;emptyString&quot;: &quot;\\u9f20\\u6807\\u5212\\u52a8\\u663e\\u793a\\u7ecf\\u7eac\\u5ea6&quot;, &quot;lngFirst&quot;: false, &quot;numDigits&quot;: 20, &quot;position&quot;: &quot;topright&quot;, &quot;prefix&quot;: &quot;\\u7ecf\\u7eac\\u5ea6\\uff1a&quot;, &quot;separator&quot;: &quot; | &quot;}\n",
       "            );\n",
       "            mouse_position_c561671d3593ca7b70837fd1da4e213e.options[&quot;latFormatter&quot;] =\n",
       "                function(num) {return L.Util.formatNum(num, 4) + &#x27; º &#x27;;};;\n",
       "            mouse_position_c561671d3593ca7b70837fd1da4e213e.options[&quot;lngFormatter&quot;] =\n",
       "                function(num) {return L.Util.formatNum(num, 4) + &#x27; º &#x27;;};;\n",
       "            map_61151dc5e489e2369f6161495cb109a9.addControl(mouse_position_c561671d3593ca7b70837fd1da4e213e);\n",
       "        \n",
       "    \n",
       "                var lat_lng_popup_3baf9c5f36d9a7927a17936fbcfd2424 = L.popup();\n",
       "                function latLngPop(e) {\n",
       "                    lat_lng_popup_3baf9c5f36d9a7927a17936fbcfd2424\n",
       "                        .setLatLng(e.latlng)\n",
       "                        .setContent(&quot;Latitude: &quot; + e.latlng.lat.toFixed(4) +\n",
       "                                    &quot;&lt;br&gt;Longitude: &quot; + e.latlng.lng.toFixed(4))\n",
       "                        .openOn(map_61151dc5e489e2369f6161495cb109a9);\n",
       "                    }\n",
       "                map_61151dc5e489e2369f6161495cb109a9.on(&#x27;click&#x27;, latLngPop);\n",
       "            \n",
       "    \n",
       "            var marker_8f74b220cd800f965265979a47fbac6c = L.marker(\n",
       "                [22.30546388888889, 114.1800527777778],\n",
       "                {}\n",
       "            ).addTo(map_61151dc5e489e2369f6161495cb109a9);\n",
       "        \n",
       "    \n",
       "            var icon_fc0ced7f730494635223fcdd49e3e49a = L.AwesomeMarkers.icon(\n",
       "                {&quot;extraClasses&quot;: &quot;fa-rotate-0&quot;, &quot;icon&quot;: &quot;fa-building&quot;, &quot;iconColor&quot;: &quot;white&quot;, &quot;markerColor&quot;: &quot;blue&quot;, &quot;prefix&quot;: &quot;fa&quot;}\n",
       "            );\n",
       "            marker_8f74b220cd800f965265979a47fbac6c.setIcon(icon_fc0ced7f730494635223fcdd49e3e49a);\n",
       "        \n",
       "    \n",
       "        var popup_cd91d43da14bbd3fca4c17b4282084ce = L.popup({&quot;maxWidth&quot;: &quot;100%&quot;});\n",
       "\n",
       "        \n",
       "            \n",
       "                var html_70c6e1d90a44ebf59072f726c95c8562 = $(`&lt;div id=&quot;html_70c6e1d90a44ebf59072f726c95c8562&quot; style=&quot;width: 100.0%; height: 100.0%;&quot;&gt;         &lt;html&gt;             &lt;head&gt;&lt;meta charset=&quot;utf-8&quot;&gt;&lt;/head&gt;             &lt;body&gt;                 &lt;div style=&quot;width:300px;&quot;&gt;                      &lt;img src=&#x27;images/IMG_1560.jpg&#x27; alt=&#x27;图片&#x27; width=&#x27;280px&#x27; style=&quot;height:auto;&quot;&gt;                     &lt;p&gt;File Name IMG_1560.jpg &lt;br/&gt; Latitude 22.30546388888889 &lt;br/&gt; Longitude 114.1800527777778 &lt;br/&gt; Time 2024:11:05 14:18:03&lt;/p&gt;                 &lt;/div&gt;             &lt;/body&gt;         &lt;/html&gt; &lt;/div&gt;`)[0];\n",
       "                popup_cd91d43da14bbd3fca4c17b4282084ce.setContent(html_70c6e1d90a44ebf59072f726c95c8562);\n",
       "            \n",
       "        \n",
       "\n",
       "        marker_8f74b220cd800f965265979a47fbac6c.bindPopup(popup_cd91d43da14bbd3fca4c17b4282084ce)\n",
       "        ;\n",
       "\n",
       "        \n",
       "    \n",
       "    \n",
       "            marker_8f74b220cd800f965265979a47fbac6c.bindTooltip(\n",
       "                `&lt;div&gt;\n",
       "                     IMG_1560.jpg\n",
       "                 &lt;/div&gt;`,\n",
       "                {&quot;sticky&quot;: true}\n",
       "            );\n",
       "        \n",
       "&lt;/script&gt;\n",
       "&lt;/html&gt;\" style=\"position:absolute;width:100%;height:100%;left:0;top:0;border:none !important;\" allowfullscreen webkitallowfullscreen mozallowfullscreen></iframe></div></div>"
      ],
      "text/plain": [
       "<folium.folium.Map at 0x1ebe9f9b6b0>"
      ]
     },
     "execution_count": 20,
     "metadata": {},
     "output_type": "execute_result"
    }
   ],
   "source": [
    "m"
   ]
  },
  {
   "cell_type": "code",
   "execution_count": 14,
   "metadata": {},
   "outputs": [],
   "source": [
    "m.save(\"拍照地点分布地图.html\")"
   ]
  },
  {
   "cell_type": "code",
   "execution_count": null,
   "metadata": {},
   "outputs": [],
   "source": []
  }
 ],
 "metadata": {
  "kernelspec": {
   "display_name": "Python 3 (ipykernel)",
   "language": "python",
   "name": "python3"
  },
  "language_info": {
   "codemirror_mode": {
    "name": "ipython",
    "version": 3
   },
   "file_extension": ".py",
   "mimetype": "text/x-python",
   "name": "python",
   "nbconvert_exporter": "python",
   "pygments_lexer": "ipython3",
   "version": "3.12.4"
  }
 },
 "nbformat": 4,
 "nbformat_minor": 4
}
