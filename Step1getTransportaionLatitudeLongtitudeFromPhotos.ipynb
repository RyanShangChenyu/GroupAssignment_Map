{
 "cells": [
  {
   "cell_type": "markdown",
   "metadata": {},
   "source": [
    "# 提取交通地点的照片经纬度\n"
   ]
  },
  {
   "cell_type": "code",
   "execution_count": 26,
   "metadata": {},
   "outputs": [],
   "source": [
    "import pandas as pd\n",
    "\n",
    "import os\n",
    "\n",
    "import exifread\n",
    "from fractions import Fraction"
   ]
  },
  {
   "cell_type": "markdown",
   "metadata": {},
   "source": [
    "## 从图像的EXIF信息中解析经纬度"
   ]
  },
  {
   "cell_type": "code",
   "execution_count": 27,
   "metadata": {},
   "outputs": [],
   "source": [
    "def get_coordinates(file_path):\n",
    "    '''\n",
    "    输入图片文件路径，输出经纬度\n",
    "    '''\n",
    "    try:\n",
    "        with open(file_path, 'rb') as f:\n",
    "            tags = exifread.process_file(f)\n",
    "            \n",
    "            # 打印所有 EXIF 标签以进行调试\n",
    "            print(\"EXIF 标签:\", tags)\n",
    "            \n",
    "            # 检查是否存在 GPS 标签\n",
    "            if 'GPS GPSLatitude' not in tags or 'GPS GPSLongitude' not in tags:\n",
    "                print(\"缺少 GPS 信息\")\n",
    "                return None, None, None\n",
    "            \n",
    "            Latitude_list = tags['GPS GPSLatitude'].values\n",
    "            Longitude_list = tags['GPS GPSLongitude'].values\n",
    "            LatitudeRef = tags['GPS GPSLatitudeRef'].values\n",
    "            LongitudeRef = tags['GPS GPSLongitudeRef'].values\n",
    "            Time = tags.get('EXIF DateTimeOriginal', '未知时间').values\n",
    "            \n",
    "            # 检查纬度和经度列表的长度\n",
    "            print(\"纬度列表:\", Latitude_list)\n",
    "            print(\"经度列表:\", Longitude_list)\n",
    "            \n",
    "            if len(Latitude_list) < 3 or len(Longitude_list) < 3:\n",
    "                print(\"纬度或经度数据不完整\")\n",
    "                return None, None, None\n",
    "            \n",
    "            # 处理纬度\n",
    "            Latitude = convert_to_degrees(Latitude_list)\n",
    "            # 根据纬度参考值确定纬度符号\n",
    "            if LatitudeRef != 'N':\n",
    "                Latitude = -Latitude\n",
    "            \n",
    "            # 处理经度\n",
    "            Longitude = convert_to_degrees(Longitude_list)\n",
    "            # 根据经度参考值确定经度符号\n",
    "            if LongitudeRef != 'E':\n",
    "                Longitude = -Longitude\n",
    "            \n",
    "            return Latitude, Longitude, Time\n",
    "    except FileNotFoundError:\n",
    "        print(f\"文件未找到: {file_path}\")\n",
    "        return None, None, None\n",
    "    except KeyError as e:\n",
    "        print(f\"缺少 EXIF 标签: {e}\")\n",
    "        return None, None, None\n",
    "    except Exception as e:\n",
    "        print(f\"发生错误: {e}\")\n",
    "        return None, None, None\n",
    "\n",
    "def convert_to_degrees(value):\n",
    "    \"\"\"将分数形式的 GPS 数据转换为度数\"\"\"\n",
    "    # 处理度\n",
    "    d = float(Fraction(value[0]))\n",
    "\n",
    "    # 处理分\n",
    "    if len(value) > 1:\n",
    "        m = float(Fraction(value[1]))\n",
    "    else:\n",
    "        m = 0  # 如果没有分，设为 0\n",
    "\n",
    "    # 处理秒\n",
    "    if len(value) > 2:\n",
    "        s = float(Fraction(value[2]))\n",
    "    else:\n",
    "        s = 0  # 如果没有秒，设为 0\n",
    "\n",
    "    return d + (m / 60.0) + (s / 3600.0)\n",
    "\n",
    "# # 调用函数\n",
    "# result = get_coordinates('2024-11-02_154929.jpg')\n",
    "# if result:\n",
    "#     Latitude, Longitude, Time = result\n",
    "#     print('纬度:', Latitude, '经度:', Longitude, '时间:', Time)\n",
    "# else:\n",
    "#     print(\"未能获取坐标信息\")"
   ]
  },
  {
   "cell_type": "markdown",
   "metadata": {},
   "source": [
    "## 遍历每张照片，获取所有照片经纬度信息"
   ]
  },
  {
   "cell_type": "code",
   "execution_count": 28,
   "metadata": {},
   "outputs": [
    {
     "name": "stdout",
     "output_type": "stream",
     "text": [
      "['.ipynb_checkpoints', '1.getLatitudeLongtitudeFromPhotos-Copy1.ipynb', '2.DrawMap-Copy1.ipynb', '2.DrawMap.ipynb', 'FileName&Infomation.csv', 'images', 'Step1getTransportaionLatitudeLongtitudeFromPhotos.ipynb', 'Transportation.csv', '拍照地点分布地图.html']\n"
     ]
    }
   ],
   "source": [
    "print(os.listdir('.'))"
   ]
  },
  {
   "cell_type": "code",
   "execution_count": 29,
   "metadata": {},
   "outputs": [
    {
     "name": "stdout",
     "output_type": "stream",
     "text": [
      "['.ipynb_checkpoints', 'Transportation']\n"
     ]
    }
   ],
   "source": [
    "# 进入images目录\n",
    "os.chdir('images/')\n",
    "df_list = []  # 创建一个列表来存储每个文件的信息\n",
    "print(os.listdir('.'))"
   ]
  },
  {
   "cell_type": "code",
   "execution_count": 30,
   "metadata": {
    "scrolled": true
   },
   "outputs": [
    {
     "name": "stdout",
     "output_type": "stream",
     "text": [
      "EXIF 标签: {'Image Make': (0x010F) ASCII=Apple @ 146, 'Image Model': (0x0110) ASCII=iPhone 13 Pro @ 152, 'Image Orientation': (0x0112) Short=Horizontal (normal) @ 42, 'Image XResolution': (0x011A) Ratio=72 @ 166, 'Image YResolution': (0x011B) Ratio=72 @ 174, 'Image ResolutionUnit': (0x0128) Short=Pixels/Inch @ 78, 'Image Software': (0x0131) ASCII=18.0.1 @ 182, 'Image DateTime': (0x0132) ASCII=2024:11:05 13:35:56 @ 190, 'Image HostComputer': (0x013C) ASCII=iPhone 13 Pro @ 210, 'Image ExifOffset': (0x8769) Long=224 @ 126, 'GPS GPSLatitudeRef': (0x0001) ASCII=N @ 2644, 'GPS GPSLatitude': (0x0002) Ratio=[22, 18, 207/20] @ 2820, 'GPS GPSLongitudeRef': (0x0003) ASCII=E @ 2668, 'GPS GPSLongitude': (0x0004) Ratio=[114, 10, 4091/100] @ 2844, 'GPS GPSAltitudeRef': (0x0005) Byte=0 @ 2692, 'GPS GPSAltitude': (0x0006) Ratio=61040/11539 @ 2868, 'GPS GPSTimeStamp': (0x0007) Ratio=[5, 35, 5511/100] @ 2876, 'GPS GPSSpeedRef': (0x000C) ASCII=K @ 2728, 'GPS GPSSpeed': (0x000D) Ratio=280618/116439 @ 2900, 'GPS GPSImgDirectionRef': (0x0010) ASCII=T @ 2752, 'GPS GPSImgDirection': (0x0011) Ratio=269265/1022 @ 2908, 'GPS GPSDestBearingRef': (0x0017) ASCII=T @ 2776, 'GPS GPSDestBearing': (0x0018) Ratio=269265/1022 @ 2916, 'GPS GPSDate': (0x001D) ASCII=2024:11:05 @ 2924, 'GPS Tag 0x001F': (0x001F) Ratio=14 @ 2936, 'Image GPSInfo': (0x8825) Long=2634 @ 138, 'EXIF ExposureTime': (0x829A) Ratio=1/1058 @ 626, 'EXIF FNumber': (0x829D) Ratio=3/2 @ 634, 'EXIF ExposureProgram': (0x8822) Short=Program Normal @ 258, 'EXIF ISOSpeedRatings': (0x8827) Short=50 @ 270, 'EXIF ExifVersion': (0x9000) Undefined=0232 @ 282, 'EXIF DateTimeOriginal': (0x9003) ASCII=2024:11:05 13:35:56 @ 642, 'EXIF DateTimeDigitized': (0x9004) ASCII=2024:11:05 13:35:56 @ 662, 'EXIF OffsetTime': (0x9010) ASCII=+08:00 @ 682, 'EXIF OffsetTimeOriginal': (0x9011) ASCII=+08:00 @ 690, 'EXIF OffsetTimeDigitized': (0x9012) ASCII=+08:00 @ 698, 'EXIF ShutterSpeedValue': (0x9201) Signed Ratio=101750/10127 @ 706, 'EXIF ApertureValue': (0x9202) Ratio=27767/23734 @ 714, 'EXIF BrightnessValue': (0x9203) Signed Ratio=56399/6669 @ 722, 'EXIF ExposureBiasValue': (0x9204) Signed Ratio=18832/35969 @ 730, 'EXIF MeteringMode': (0x9207) Short=Spot @ 402, 'EXIF Flash': (0x9209) Short=Flash did not fire, compulsory flash mode @ 414, 'EXIF FocalLength': (0x920A) Ratio=57/10 @ 738, 'EXIF SubjectArea': (0x9214) Short=[978, 1259, 747, 752] @ 746, 'EXIF MakerNote': (0x927C) Undefined=[65, 112, 112, 108, 101, 32, 105, 79, 83, 0, 0, 1, 77, 77, 0, 59, 0, 1, 0, 9, ... ] @ 754, 'EXIF SubSecTimeOriginal': (0x9291) ASCII=301 @ 462, 'EXIF SubSecTimeDigitized': (0x9292) ASCII=301 @ 474, 'EXIF ColorSpace': (0xA001) Short=Uncalibrated @ 486, 'EXIF ExifImageWidth': (0xA002) Long=4032 @ 498, 'EXIF ExifImageLength': (0xA003) Long=3024 @ 510, 'EXIF SensingMethod': (0xA217) Short=One-chip color area @ 522, 'EXIF SceneType': (0xA301) Undefined=Directly Photographed @ 534, 'EXIF ExposureMode': (0xA402) Short=Auto Exposure @ 546, 'EXIF WhiteBalance': (0xA403) Short=Auto @ 558, 'EXIF FocalLengthIn35mmFilm': (0xA405) Short=26 @ 570, 'EXIF LensSpecification': (0xA432) Ratio=[299253/190607, 9, 3/2, 14/5] @ 2550, 'EXIF LensMake': (0xA433) ASCII=Apple @ 2582, 'EXIF LensModel': (0xA434) ASCII=iPhone 13 Pro back triple camera 5.7mm f/1.5 @ 2588, 'EXIF Tag 0xA460': (0xA460) Short=2 @ 618, 'MakerNote Tag 0x0001': (0x0001) Signed Long=15 @ 10, 'MakerNote Tag 0x0002': (0x0002) Undefined=[200, 3, 252, 3, 252, 3, 252, 3, 252, 3, 252, 3, 251, 3, 146, 3, 39, 1, 12, 1, ... ] @ 728, 'MakerNote Tag 0x0003': (0x0003) Undefined=[6, 7, 8, 85, 102, 108, 97, 103, 115, 85, 118, 97, 108, 117, 101, 89, 116, 105, 109, 101, ... ] @ 1240, 'MakerNote Tag 0x0004': (0x0004) Signed Long=1 @ 46, 'MakerNote Tag 0x0005': (0x0005) Signed Long=176 @ 58, 'MakerNote Tag 0x0006': (0x0006) Signed Long=238 @ 70, 'MakerNote Tag 0x0007': (0x0007) Signed Long=1 @ 82, 'MakerNote Tag 0x0008': (0x0008) Signed Ratio=[-1277165568/140312581, -32474/11, 16/13] @ 1344, 'MakerNote Tag 0x000C': (0x000C) Signed Ratio=[2111553/1161315634, 875834689/1094006573] @ 1368, 'MakerNote Tag 0x000D': (0x000D) Signed Long=36 @ 118, 'MakerNote Tag 0x000E': (0x000E) Signed Long=0 @ 130, 'MakerNote Tag 0x0010': (0x0010) Signed Long=1 @ 142, 'MakerNote Tag 0x0011': (0x0011) ASCII=442D-B417-8D412D487911 @ 1384, 'MakerNote Tag 0x0014': (0x0014) Signed Long=10 @ 166, 'MakerNote Tag 0x0019': (0x0019) Signed Long=2 @ 190, 'MakerNote Tag 0x001A': (0x001A) ASCII=-11BD- @ 1429, 'MakerNote Tag 0x001F': (0x001F) Signed Long=0 @ 214, 'MakerNote Tag 0x0020': (0x0020) ASCII=405F-9B98-1794FF42BA77 @ 1435, 'MakerNote Tag 0x0021': (0x0021) Signed Ratio=720896 @ 1472, 'MakerNote Tag 0x0023': (0x0023) Signed Long=[12976134, -1419706368] @ 1480, 'MakerNote Tag 0x0026': (0x0026) Signed Long=3 @ 274, 'MakerNote Tag 0x0027': (0x0027) Signed Ratio=1162226993/909525293 @ 1496, 'MakerNote Tag 0x0028': (0x0028) Signed Long=1 @ 298, 'MakerNote Tag 0x002B': (0x002B) ASCII=4FBE-A1AE-F4D710021E03 @ 1504, 'MakerNote Tag 0x002D': (0x002D) Signed Long=5203 @ 322, 'MakerNote Tag 0x002E': (0x002E) Signed Long=1 @ 334, 'MakerNote Tag 0x002F': (0x002F) Signed Long=71 @ 346, 'MakerNote Tag 0x0030': (0x0030) Signed Ratio=808506369/33752069 @ 1541, 'MakerNote Tag 0x0033': (0x0033) Signed Long=4096 @ 370, 'MakerNote Tag 0x0034': (0x0034) Signed Long=4 @ 382, 'MakerNote Tag 0x0035': (0x0035) Signed Long=3 @ 394, 'MakerNote Tag 0x0036': (0x0036) Signed Long=32925 @ 406, 'MakerNote Tag 0x0037': (0x0037) Signed Long=4 @ 418, 'MakerNote Tag 0x0038': (0x0038) Signed Long=572 @ 430, 'MakerNote Tag 0x0039': (0x0039) Signed Long=2 @ 442, 'MakerNote Tag 0x003A': (0x003A) Signed Long=0 @ 454, 'MakerNote Tag 0x003B': (0x003B) Signed Long=2 @ 466, 'MakerNote Tag 0x003C': (0x003C) Signed Long=4 @ 478, 'MakerNote Tag 0x003D': (0x003D) Signed Long=2 @ 490, 'MakerNote Tag 0x003F': (0x003F) Signed Long=63 @ 502, 'MakerNote Tag 0x0040': (0x0040) Undefined=[6, 6, 7, 81, 51, 81, 49, 81, 50, 81, 48, 16, 0, 34, 0, 0, 0, 0, 16, 1, ... ] @ 1549, 'MakerNote Tag 0x0041': (0x0041) Signed Long=0 @ 526, 'MakerNote Tag 0x0042': (0x0042) Signed Long=0 @ 538, 'MakerNote Tag 0x0043': (0x0043) Signed Long=0 @ 550, 'MakerNote Tag 0x0044': (0x0044) Signed Long=0 @ 562, 'MakerNote Tag 0x0045': (0x0045) Signed Long=0 @ 574, 'MakerNote Tag 0x0046': (0x0046) Signed Long=0 @ 586, 'MakerNote Tag 0x0048': (0x0048) Signed Long=572 @ 598, 'MakerNote Tag 0x0049': (0x0049) Signed Long=0 @ 610, 'MakerNote Tag 0x004A': (0x004A) Signed Long=2 @ 622, 'MakerNote Tag 0x004D': (0x004D) Signed Ratio=808505857/33752145 @ 1623, 'MakerNote Tag 0x004E': (0x004E) Undefined=[49, 81, 50, 16, 3, 162, 5, 10, 210, 6, 7, 8, 9, 83, 50, 46, 49, 83, 50, 46, ... ] @ 1631, 'MakerNote Tag 0x004F': (0x004F) Undefined=[0, 0, 0, 1, 1, 0, 0, 0, 0, 0, 0, 0, 1, 0, 0, 0, 0, 0, 0, 0, 0, 0, 0, 0, 0, 0, 0, 0, 10, 0, 0, 4, 144, 245, 0, 2, 232, 143, 0, 0, 0, 9, 0] @ 1752, 'MakerNote Tag 0x0052': (0x0052) Signed Long=1 @ 670, 'MakerNote Tag 0x0053': (0x0053) Signed Long=1 @ 682, 'MakerNote Tag 0x0055': (0x0055) Signed Long=0 @ 694, 'MakerNote Tag 0x0058': (0x0058) Signed Long=1795 @ 706}\n",
      "纬度列表: [22, 18, 207/20]\n",
      "经度列表: [114, 10, 4091/100]\n",
      "EXIF 标签: {'Image Make': (0x010F) ASCII=Apple @ 146, 'Image Model': (0x0110) ASCII=iPhone 13 Pro @ 152, 'Image Orientation': (0x0112) Short=Horizontal (normal) @ 42, 'Image XResolution': (0x011A) Ratio=72 @ 166, 'Image YResolution': (0x011B) Ratio=72 @ 174, 'Image ResolutionUnit': (0x0128) Short=Pixels/Inch @ 78, 'Image Software': (0x0131) ASCII=18.0.1 @ 182, 'Image DateTime': (0x0132) ASCII=2024:11:05 13:36:20 @ 190, 'Image HostComputer': (0x013C) ASCII=iPhone 13 Pro @ 210, 'Image ExifOffset': (0x8769) Long=224 @ 126, 'GPS GPSLatitudeRef': (0x0001) ASCII=N @ 2644, 'GPS GPSLatitude': (0x0002) Ratio=[22, 18, 101/10] @ 2820, 'GPS GPSLongitudeRef': (0x0003) ASCII=E @ 2668, 'GPS GPSLongitude': (0x0004) Ratio=[114, 10, 81/2] @ 2844, 'GPS GPSAltitudeRef': (0x0005) Byte=0 @ 2692, 'GPS GPSAltitude': (0x0006) Ratio=14391/2048 @ 2868, 'GPS GPSTimeStamp': (0x0007) Ratio=[5, 36, 1999/100] @ 2876, 'GPS GPSSpeedRef': (0x000C) ASCII=K @ 2728, 'GPS GPSSpeed': (0x000D) Ratio=0 @ 2900, 'GPS GPSImgDirectionRef': (0x0010) ASCII=T @ 2752, 'GPS GPSImgDirection': (0x0011) Ratio=357121/4096 @ 2908, 'GPS GPSDestBearingRef': (0x0017) ASCII=T @ 2776, 'GPS GPSDestBearing': (0x0018) Ratio=357121/4096 @ 2916, 'GPS GPSDate': (0x001D) ASCII=2024:11:05 @ 2924, 'GPS Tag 0x001F': (0x001F) Ratio=64355/2831 @ 2936, 'Image GPSInfo': (0x8825) Long=2634 @ 138, 'EXIF ExposureTime': (0x829A) Ratio=1/4630 @ 626, 'EXIF FNumber': (0x829D) Ratio=3/2 @ 634, 'EXIF ExposureProgram': (0x8822) Short=Program Normal @ 258, 'EXIF ISOSpeedRatings': (0x8827) Short=50 @ 270, 'EXIF ExifVersion': (0x9000) Undefined=0232 @ 282, 'EXIF DateTimeOriginal': (0x9003) ASCII=2024:11:05 13:36:20 @ 642, 'EXIF DateTimeDigitized': (0x9004) ASCII=2024:11:05 13:36:20 @ 662, 'EXIF OffsetTime': (0x9010) ASCII=+08:00 @ 682, 'EXIF OffsetTimeOriginal': (0x9011) ASCII=+08:00 @ 690, 'EXIF OffsetTimeDigitized': (0x9012) ASCII=+08:00 @ 698, 'EXIF ShutterSpeedValue': (0x9201) Signed Ratio=98692/8105 @ 706, 'EXIF ApertureValue': (0x9202) Ratio=27767/23734 @ 714, 'EXIF BrightnessValue': (0x9203) Signed Ratio=55627/5444 @ 722, 'EXIF ExposureBiasValue': (0x9204) Signed Ratio=0 @ 730, 'EXIF MeteringMode': (0x9207) Short=Spot @ 402, 'EXIF Flash': (0x9209) Short=Flash did not fire, compulsory flash mode @ 414, 'EXIF FocalLength': (0x920A) Ratio=57/10 @ 738, 'EXIF SubjectArea': (0x9214) Short=[1581, 2190, 747, 752] @ 746, 'EXIF MakerNote': (0x927C) Undefined=[65, 112, 112, 108, 101, 32, 105, 79, 83, 0, 0, 1, 77, 77, 0, 59, 0, 1, 0, 9, ... ] @ 754, 'EXIF SubSecTimeOriginal': (0x9291) ASCII=619 @ 462, 'EXIF SubSecTimeDigitized': (0x9292) ASCII=619 @ 474, 'EXIF ColorSpace': (0xA001) Short=Uncalibrated @ 486, 'EXIF ExifImageWidth': (0xA002) Long=4032 @ 498, 'EXIF ExifImageLength': (0xA003) Long=3024 @ 510, 'EXIF SensingMethod': (0xA217) Short=One-chip color area @ 522, 'EXIF SceneType': (0xA301) Undefined=Directly Photographed @ 534, 'EXIF ExposureMode': (0xA402) Short=Auto Exposure @ 546, 'EXIF WhiteBalance': (0xA403) Short=Auto @ 558, 'EXIF FocalLengthIn35mmFilm': (0xA405) Short=26 @ 570, 'EXIF LensSpecification': (0xA432) Ratio=[299253/190607, 9, 3/2, 14/5] @ 2550, 'EXIF LensMake': (0xA433) ASCII=Apple @ 2582, 'EXIF LensModel': (0xA434) ASCII=iPhone 13 Pro back triple camera 5.7mm f/1.5 @ 2588, 'EXIF Tag 0xA460': (0xA460) Short=2 @ 618, 'MakerNote Tag 0x0001': (0x0001) Signed Long=15 @ 10, 'MakerNote Tag 0x0002': (0x0002) Undefined=[207, 0, 178, 0, 130, 0, 199, 0, 135, 1, 127, 1, 114, 1, 119, 1, 126, 1, 90, 0, ... ] @ 728, 'MakerNote Tag 0x0003': (0x0003) Undefined=[6, 7, 8, 85, 102, 108, 97, 103, 115, 85, 118, 97, 108, 117, 101, 89, 116, 105, 109, 101, ... ] @ 1240, 'MakerNote Tag 0x0004': (0x0004) Signed Long=1 @ 46, 'MakerNote Tag 0x0005': (0x0005) Signed Long=184 @ 58, 'MakerNote Tag 0x0006': (0x0006) Signed Long=188 @ 70, 'MakerNote Tag 0x0007': (0x0007) Signed Long=1 @ 82, 'MakerNote Tag 0x0008': (0x0008) Signed Ratio=[-1237516288/317915137, 3219/23, 128/67] @ 1344, 'MakerNote Tag 0x000C': (0x000C) Signed Ratio=[16794437/926368321, 910241081/876097837] @ 1368, 'MakerNote Tag 0x000D': (0x000D) Signed Long=36 @ 118, 'MakerNote Tag 0x000E': (0x000E) Signed Long=0 @ 130, 'MakerNote Tag 0x0010': (0x0010) Signed Long=1 @ 142, 'MakerNote Tag 0x0011': (0x0011) ASCII=4920-A7AB-4304C8E1C1F8 @ 1384, 'MakerNote Tag 0x0014': (0x0014) Signed Long=10 @ 166, 'MakerNote Tag 0x0019': (0x0019) Signed Long=2 @ 190, 'MakerNote Tag 0x001A': (0x001A) ASCII=-0DF4- @ 1429, 'MakerNote Tag 0x001F': (0x001F) Signed Long=0 @ 214, 'MakerNote Tag 0x0020': (0x0020) ASCII=4B05-B317-BCED359847C4 @ 1435, 'MakerNote Tag 0x0021': (0x0021) Signed Ratio=2686976/0 @ 1472, 'MakerNote Tag 0x0023': (0x0023) Signed Long=[8781825, 747175936] @ 1480, 'MakerNote Tag 0x0026': (0x0026) Signed Long=3 @ 274, 'MakerNote Tag 0x0027': (0x0027) Signed Ratio=1127427398/892418093 @ 1496, 'MakerNote Tag 0x0028': (0x0028) Signed Long=1 @ 298, 'MakerNote Tag 0x002B': (0x002B) ASCII=444B-840A-B30C913040FC @ 1504, 'MakerNote Tag 0x002D': (0x002D) Signed Long=5325 @ 322, 'MakerNote Tag 0x002E': (0x002E) Signed Long=1 @ 334, 'MakerNote Tag 0x002F': (0x002F) Signed Long=75 @ 346, 'MakerNote Tag 0x0030': (0x0030) Signed Ratio=808506369/33752069 @ 1541, 'MakerNote Tag 0x0033': (0x0033) Signed Long=4096 @ 370, 'MakerNote Tag 0x0034': (0x0034) Signed Long=4 @ 382, 'MakerNote Tag 0x0035': (0x0035) Signed Long=3 @ 394, 'MakerNote Tag 0x0036': (0x0036) Signed Long=47214 @ 406, 'MakerNote Tag 0x0037': (0x0037) Signed Long=4 @ 418, 'MakerNote Tag 0x0038': (0x0038) Signed Long=352 @ 430, 'MakerNote Tag 0x0039': (0x0039) Signed Long=2 @ 442, 'MakerNote Tag 0x003A': (0x003A) Signed Long=0 @ 454, 'MakerNote Tag 0x003B': (0x003B) Signed Long=2 @ 466, 'MakerNote Tag 0x003C': (0x003C) Signed Long=4 @ 478, 'MakerNote Tag 0x003D': (0x003D) Signed Long=9 @ 490, 'MakerNote Tag 0x003F': (0x003F) Signed Long=41 @ 502, 'MakerNote Tag 0x0040': (0x0040) Undefined=[6, 6, 7, 81, 51, 81, 49, 81, 50, 81, 48, 16, 0, 34, 0, 0, 0, 0, 16, 1, ... ] @ 1549, 'MakerNote Tag 0x0041': (0x0041) Signed Long=0 @ 526, 'MakerNote Tag 0x0042': (0x0042) Signed Long=0 @ 538, 'MakerNote Tag 0x0043': (0x0043) Signed Long=0 @ 550, 'MakerNote Tag 0x0044': (0x0044) Signed Long=0 @ 562, 'MakerNote Tag 0x0045': (0x0045) Signed Long=0 @ 574, 'MakerNote Tag 0x0046': (0x0046) Signed Long=0 @ 586, 'MakerNote Tag 0x0048': (0x0048) Signed Long=573 @ 598, 'MakerNote Tag 0x0049': (0x0049) Signed Long=0 @ 610, 'MakerNote Tag 0x004A': (0x004A) Signed Long=2 @ 622, 'MakerNote Tag 0x004D': (0x004D) Signed Ratio=808505857/33752145 @ 1623, 'MakerNote Tag 0x004E': (0x004E) Undefined=[49, 81, 50, 16, 3, 162, 5, 10, 210, 6, 7, 8, 9, 83, 50, 46, 49, 83, 50, 46, ... ] @ 1631, 'MakerNote Tag 0x004F': (0x004F) Undefined=[0, 0, 0, 1, 1, 0, 0, 0, 0, 0, 0, 0, 1, 0, 0, 0, 0, 0, 0, 0, 0, 0, 0, 0, 0, 0, 0, 0, 10, 0, 0, 4, 144, 245, 0, 2, 232, 143, 0, 0, 0, 9, 0] @ 1752, 'MakerNote Tag 0x0052': (0x0052) Signed Long=2 @ 670, 'MakerNote Tag 0x0053': (0x0053) Signed Long=1 @ 682, 'MakerNote Tag 0x0055': (0x0055) Signed Long=0 @ 694, 'MakerNote Tag 0x0058': (0x0058) Signed Long=1795 @ 706}\n",
      "纬度列表: [22, 18, 101/10]\n",
      "经度列表: [114, 10, 81/2]\n",
      "EXIF 标签: {'Image Make': (0x010F) ASCII=Apple @ 146, 'Image Model': (0x0110) ASCII=iPhone 13 Pro @ 152, 'Image Orientation': (0x0112) Short=Horizontal (normal) @ 42, 'Image XResolution': (0x011A) Ratio=72 @ 166, 'Image YResolution': (0x011B) Ratio=72 @ 174, 'Image ResolutionUnit': (0x0128) Short=Pixels/Inch @ 78, 'Image Software': (0x0131) ASCII=18.0.1 @ 182, 'Image DateTime': (0x0132) ASCII=2024:11:05 13:56:43 @ 190, 'Image HostComputer': (0x013C) ASCII=iPhone 13 Pro @ 210, 'Image ExifOffset': (0x8769) Long=224 @ 126, 'GPS GPSLatitudeRef': (0x0001) ASCII=N @ 2644, 'GPS GPSLatitude': (0x0002) Ratio=[22, 18, 1237/100] @ 2820, 'GPS GPSLongitudeRef': (0x0003) ASCII=E @ 2668, 'GPS GPSLongitude': (0x0004) Ratio=[114, 10, 491/10] @ 2844, 'GPS GPSAltitudeRef': (0x0005) Byte=0 @ 2692, 'GPS GPSAltitude': (0x0006) Ratio=52917/8192 @ 2868, 'GPS GPSTimeStamp': (0x0007) Ratio=[5, 56, 1078/25] @ 2876, 'GPS GPSSpeedRef': (0x000C) ASCII=K @ 2728, 'GPS GPSSpeed': (0x000D) Ratio=899842/381289 @ 2900, 'GPS GPSImgDirectionRef': (0x0010) ASCII=T @ 2752, 'GPS GPSImgDirection': (0x0011) Ratio=272534/1707 @ 2908, 'GPS GPSDestBearingRef': (0x0017) ASCII=T @ 2776, 'GPS GPSDestBearing': (0x0018) Ratio=272534/1707 @ 2916, 'GPS GPSDate': (0x001D) ASCII=2024:11:05 @ 2924, 'GPS Tag 0x001F': (0x001F) Ratio=189601/8372 @ 2936, 'Image GPSInfo': (0x8825) Long=2634 @ 138, 'EXIF ExposureTime': (0x829A) Ratio=1/6993 @ 626, 'EXIF FNumber': (0x829D) Ratio=3/2 @ 634, 'EXIF ExposureProgram': (0x8822) Short=Program Normal @ 258, 'EXIF ISOSpeedRatings': (0x8827) Short=50 @ 270, 'EXIF ExifVersion': (0x9000) Undefined=0232 @ 282, 'EXIF DateTimeOriginal': (0x9003) ASCII=2024:11:05 13:56:43 @ 642, 'EXIF DateTimeDigitized': (0x9004) ASCII=2024:11:05 13:56:43 @ 662, 'EXIF OffsetTime': (0x9010) ASCII=+08:00 @ 682, 'EXIF OffsetTimeOriginal': (0x9011) ASCII=+08:00 @ 690, 'EXIF OffsetTimeDigitized': (0x9012) ASCII=+08:00 @ 698, 'EXIF ShutterSpeedValue': (0x9201) Signed Ratio=82850/6487 @ 706, 'EXIF ApertureValue': (0x9202) Ratio=27767/23734 @ 714, 'EXIF BrightnessValue': (0x9203) Signed Ratio=75593/7062 @ 722, 'EXIF ExposureBiasValue': (0x9204) Signed Ratio=0 @ 730, 'EXIF MeteringMode': (0x9207) Short=Pattern @ 402, 'EXIF Flash': (0x9209) Short=Flash did not fire, compulsory flash mode @ 414, 'EXIF FocalLength': (0x920A) Ratio=57/10 @ 738, 'EXIF SubjectArea': (0x9214) Short=[2015, 1506, 2323, 1327] @ 746, 'EXIF MakerNote': (0x927C) Undefined=[65, 112, 112, 108, 101, 32, 105, 79, 83, 0, 0, 1, 77, 77, 0, 59, 0, 1, 0, 9, ... ] @ 754, 'EXIF SubSecTimeOriginal': (0x9291) ASCII=977 @ 462, 'EXIF SubSecTimeDigitized': (0x9292) ASCII=977 @ 474, 'EXIF ColorSpace': (0xA001) Short=Uncalibrated @ 486, 'EXIF ExifImageWidth': (0xA002) Long=4032 @ 498, 'EXIF ExifImageLength': (0xA003) Long=3024 @ 510, 'EXIF SensingMethod': (0xA217) Short=One-chip color area @ 522, 'EXIF SceneType': (0xA301) Undefined=Directly Photographed @ 534, 'EXIF ExposureMode': (0xA402) Short=Auto Exposure @ 546, 'EXIF WhiteBalance': (0xA403) Short=Auto @ 558, 'EXIF FocalLengthIn35mmFilm': (0xA405) Short=26 @ 570, 'EXIF LensSpecification': (0xA432) Ratio=[299253/190607, 9, 3/2, 14/5] @ 2550, 'EXIF LensMake': (0xA433) ASCII=Apple @ 2582, 'EXIF LensModel': (0xA434) ASCII=iPhone 13 Pro back triple camera 5.7mm f/1.5 @ 2588, 'EXIF Tag 0xA460': (0xA460) Short=2 @ 618, 'MakerNote Tag 0x0001': (0x0001) Signed Long=15 @ 10, 'MakerNote Tag 0x0002': (0x0002) Undefined=[184, 1, 254, 1, 7, 2, 234, 1, 65, 2, 107, 2, 139, 2, 32, 2, 184, 0, 34, 1, ... ] @ 728, 'MakerNote Tag 0x0003': (0x0003) Undefined=[6, 7, 8, 85, 102, 108, 97, 103, 115, 85, 118, 97, 108, 117, 101, 89, 116, 105, 109, 101, ... ] @ 1240, 'MakerNote Tag 0x0004': (0x0004) Signed Long=1 @ 46, 'MakerNote Tag 0x0005': (0x0005) Signed Long=176 @ 58, 'MakerNote Tag 0x0006': (0x0006) Signed Long=173 @ 70, 'MakerNote Tag 0x0007': (0x0007) Signed Long=1 @ 82, 'MakerNote Tag 0x0008': (0x0008) Signed Ratio=[815923201/582680575, 1198, 256/291] @ 1344, 'MakerNote Tag 0x000C': (0x000C) Signed Ratio=[16793923/909460280, 1161309490/825571629] @ 1368, 'MakerNote Tag 0x000D': (0x000D) Signed Long=36 @ 118, 'MakerNote Tag 0x000E': (0x000E) Signed Long=0 @ 130, 'MakerNote Tag 0x0010': (0x0010) Signed Long=1 @ 142, 'MakerNote Tag 0x0011': (0x0011) ASCII=4955-ACCA-EDB48F34A84B @ 1384, 'MakerNote Tag 0x0014': (0x0014) Signed Long=10 @ 166, 'MakerNote Tag 0x0019': (0x0019) Signed Long=2 @ 190, 'MakerNote Tag 0x001A': (0x001A) ASCII=-FCDB- @ 1429, 'MakerNote Tag 0x001F': (0x001F) Signed Long=0 @ 214, 'MakerNote Tag 0x0020': (0x0020) ASCII=43DC-AFB2-9327480B9A75 @ 1435, 'MakerNote Tag 0x0021': (0x0021) Signed Ratio=3473408/0 @ 1472, 'MakerNote Tag 0x0023': (0x0023) Signed Long=[8781829, -1191641088] @ 1480, 'MakerNote Tag 0x0026': (0x0026) Signed Long=3 @ 274, 'MakerNote Tag 0x0027': (0x0027) Signed Ratio=909454645/1127560493 @ 1496, 'MakerNote Tag 0x0028': (0x0028) Signed Long=1 @ 298, 'MakerNote Tag 0x002B': (0x002B) ASCII=4688-A872-D6E66E1F0A19 @ 1504, 'MakerNote Tag 0x002D': (0x002D) Signed Long=5360 @ 322, 'MakerNote Tag 0x002E': (0x002E) Signed Long=1 @ 334, 'MakerNote Tag 0x002F': (0x002F) Signed Long=68 @ 346, 'MakerNote Tag 0x0030': (0x0030) Signed Ratio=808506369/33752069 @ 1541, 'MakerNote Tag 0x0033': (0x0033) Signed Long=4096 @ 370, 'MakerNote Tag 0x0034': (0x0034) Signed Long=4 @ 382, 'MakerNote Tag 0x0035': (0x0035) Signed Long=3 @ 394, 'MakerNote Tag 0x0036': (0x0036) Signed Long=65535 @ 406, 'MakerNote Tag 0x0037': (0x0037) Signed Long=4 @ 418, 'MakerNote Tag 0x0038': (0x0038) Signed Long=571 @ 430, 'MakerNote Tag 0x0039': (0x0039) Signed Long=0 @ 442, 'MakerNote Tag 0x003A': (0x003A) Signed Long=0 @ 454, 'MakerNote Tag 0x003B': (0x003B) Signed Long=2 @ 466, 'MakerNote Tag 0x003C': (0x003C) Signed Long=4 @ 478, 'MakerNote Tag 0x003D': (0x003D) Signed Long=0 @ 490, 'MakerNote Tag 0x003F': (0x003F) Signed Long=41 @ 502, 'MakerNote Tag 0x0040': (0x0040) Undefined=[6, 6, 7, 81, 51, 81, 49, 81, 50, 81, 48, 16, 0, 34, 0, 0, 0, 0, 16, 1, ... ] @ 1549, 'MakerNote Tag 0x0041': (0x0041) Signed Long=0 @ 526, 'MakerNote Tag 0x0042': (0x0042) Signed Long=0 @ 538, 'MakerNote Tag 0x0043': (0x0043) Signed Long=0 @ 550, 'MakerNote Tag 0x0044': (0x0044) Signed Long=0 @ 562, 'MakerNote Tag 0x0045': (0x0045) Signed Long=0 @ 574, 'MakerNote Tag 0x0046': (0x0046) Signed Long=0 @ 586, 'MakerNote Tag 0x0048': (0x0048) Signed Long=571 @ 598, 'MakerNote Tag 0x0049': (0x0049) Signed Long=0 @ 610, 'MakerNote Tag 0x004A': (0x004A) Signed Long=2 @ 622, 'MakerNote Tag 0x004D': (0x004D) Signed Ratio=808505857/33752145 @ 1623, 'MakerNote Tag 0x004E': (0x004E) Undefined=[49, 81, 50, 16, 3, 162, 5, 10, 210, 6, 7, 8, 9, 83, 50, 46, 49, 83, 50, 46, ... ] @ 1631, 'MakerNote Tag 0x004F': (0x004F) Undefined=[0, 0, 0, 1, 1, 0, 0, 0, 0, 0, 0, 0, 1, 0, 0, 0, 0, 0, 0, 0, 0, 0, 0, 0, 0, 0, 0, 0, 10, 0, 0, 4, 144, 245, 0, 2, 232, 143, 0, 0, 0, 9, 0] @ 1752, 'MakerNote Tag 0x0052': (0x0052) Signed Long=1 @ 670, 'MakerNote Tag 0x0053': (0x0053) Signed Long=1 @ 682, 'MakerNote Tag 0x0055': (0x0055) Signed Long=0 @ 694, 'MakerNote Tag 0x0058': (0x0058) Signed Long=1795 @ 706}\n",
      "纬度列表: [22, 18, 1237/100]\n",
      "经度列表: [114, 10, 491/10]\n",
      "EXIF 标签: {'Image Make': (0x010F) ASCII=Apple @ 146, 'Image Model': (0x0110) ASCII=iPhone 13 Pro @ 152, 'Image Orientation': (0x0112) Short=Horizontal (normal) @ 42, 'Image XResolution': (0x011A) Ratio=72 @ 166, 'Image YResolution': (0x011B) Ratio=72 @ 174, 'Image ResolutionUnit': (0x0128) Short=Pixels/Inch @ 78, 'Image Software': (0x0131) ASCII=18.0.1 @ 182, 'Image DateTime': (0x0132) ASCII=2024:11:05 13:57:48 @ 190, 'Image HostComputer': (0x013C) ASCII=iPhone 13 Pro @ 210, 'Image ExifOffset': (0x8769) Long=224 @ 126, 'GPS GPSLatitudeRef': (0x0001) ASCII=N @ 2644, 'GPS GPSLatitude': (0x0002) Ratio=[22, 18, 1061/100] @ 2820, 'GPS GPSLongitudeRef': (0x0003) ASCII=E @ 2668, 'GPS GPSLongitude': (0x0004) Ratio=[114, 10, 1246/25] @ 2844, 'GPS GPSAltitudeRef': (0x0005) Byte=1 @ 2692, 'GPS GPSAltitude': (0x0006) Ratio=92909/9361 @ 2868, 'GPS GPSTimeStamp': (0x0007) Ratio=[5, 57, 4699/100] @ 2876, 'GPS GPSSpeedRef': (0x000C) ASCII=K @ 2728, 'GPS GPSSpeed': (0x000D) Ratio=6794813/4194329 @ 2900, 'GPS GPSImgDirectionRef': (0x0010) ASCII=T @ 2752, 'GPS GPSImgDirection': (0x0011) Ratio=67358/305 @ 2908, 'GPS GPSDestBearingRef': (0x0017) ASCII=T @ 2776, 'GPS GPSDestBearing': (0x0018) Ratio=67358/305 @ 2916, 'GPS GPSDate': (0x001D) ASCII=2024:11:05 @ 2924, 'GPS Tag 0x001F': (0x001F) Ratio=141657/4952 @ 2936, 'Image GPSInfo': (0x8825) Long=2634 @ 138, 'EXIF ExposureTime': (0x829A) Ratio=1/3571 @ 626, 'EXIF FNumber': (0x829D) Ratio=3/2 @ 634, 'EXIF ExposureProgram': (0x8822) Short=Program Normal @ 258, 'EXIF ISOSpeedRatings': (0x8827) Short=50 @ 270, 'EXIF ExifVersion': (0x9000) Undefined=0232 @ 282, 'EXIF DateTimeOriginal': (0x9003) ASCII=2024:11:05 13:57:48 @ 642, 'EXIF DateTimeDigitized': (0x9004) ASCII=2024:11:05 13:57:48 @ 662, 'EXIF OffsetTime': (0x9010) ASCII=+08:00 @ 682, 'EXIF OffsetTimeOriginal': (0x9011) ASCII=+08:00 @ 690, 'EXIF OffsetTimeDigitized': (0x9012) ASCII=+08:00 @ 698, 'EXIF ShutterSpeedValue': (0x9201) Signed Ratio=85720/7263 @ 706, 'EXIF ApertureValue': (0x9202) Ratio=27767/23734 @ 714, 'EXIF BrightnessValue': (0x9203) Signed Ratio=87165/8861 @ 722, 'EXIF ExposureBiasValue': (0x9204) Signed Ratio=0 @ 730, 'EXIF MeteringMode': (0x9207) Short=Pattern @ 402, 'EXIF Flash': (0x9209) Short=Flash did not fire, compulsory flash mode @ 414, 'EXIF FocalLength': (0x920A) Ratio=57/10 @ 738, 'EXIF SubjectArea': (0x9214) Short=[2015, 1506, 2323, 1327] @ 746, 'EXIF MakerNote': (0x927C) Undefined=[65, 112, 112, 108, 101, 32, 105, 79, 83, 0, 0, 1, 77, 77, 0, 59, 0, 1, 0, 9, ... ] @ 754, 'EXIF SubSecTimeOriginal': (0x9291) ASCII=568 @ 462, 'EXIF SubSecTimeDigitized': (0x9292) ASCII=568 @ 474, 'EXIF ColorSpace': (0xA001) Short=Uncalibrated @ 486, 'EXIF ExifImageWidth': (0xA002) Long=4032 @ 498, 'EXIF ExifImageLength': (0xA003) Long=3024 @ 510, 'EXIF SensingMethod': (0xA217) Short=One-chip color area @ 522, 'EXIF SceneType': (0xA301) Undefined=Directly Photographed @ 534, 'EXIF ExposureMode': (0xA402) Short=Auto Exposure @ 546, 'EXIF WhiteBalance': (0xA403) Short=Auto @ 558, 'EXIF FocalLengthIn35mmFilm': (0xA405) Short=26 @ 570, 'EXIF LensSpecification': (0xA432) Ratio=[299253/190607, 9, 3/2, 14/5] @ 2550, 'EXIF LensMake': (0xA433) ASCII=Apple @ 2582, 'EXIF LensModel': (0xA434) ASCII=iPhone 13 Pro back triple camera 5.7mm f/1.5 @ 2588, 'EXIF Tag 0xA460': (0xA460) Short=2 @ 618, 'MakerNote Tag 0x0001': (0x0001) Signed Long=15 @ 10, 'MakerNote Tag 0x0002': (0x0002) Undefined=[55, 1, 124, 0, 92, 0, 57, 0, 49, 0, 58, 0, 52, 0, 51, 0, 49, 0, 168, 3, ... ] @ 728, 'MakerNote Tag 0x0003': (0x0003) Undefined=[6, 7, 8, 85, 102, 108, 97, 103, 115, 85, 118, 97, 108, 117, 101, 89, 116, 105, 109, 101, ... ] @ 1240, 'MakerNote Tag 0x0004': (0x0004) Signed Long=1 @ 46, 'MakerNote Tag 0x0005': (0x0005) Signed Long=183 @ 58, 'MakerNote Tag 0x0006': (0x0006) Signed Long=188 @ 70, 'MakerNote Tag 0x0007': (0x0007) Signed Long=1 @ 82, 'MakerNote Tag 0x0008': (0x0008) Signed Ratio=[-209715200/535298049, -30449/15, 256/55] @ 1344, 'MakerNote Tag 0x000C': (0x000C) Signed Ratio=[933439/102907684, 1144073522/1110848557] @ 1368, 'MakerNote Tag 0x000D': (0x000D) Signed Long=36 @ 118, 'MakerNote Tag 0x000E': (0x000E) Signed Long=0 @ 130, 'MakerNote Tag 0x0010': (0x0010) Signed Long=1 @ 142, 'MakerNote Tag 0x0011': (0x0011) ASCII=43A8-8C91-23DAA49DE271 @ 1384, 'MakerNote Tag 0x0014': (0x0014) Signed Long=10 @ 166, 'MakerNote Tag 0x0019': (0x0019) Signed Long=2 @ 190, 'MakerNote Tag 0x001A': (0x001A) ASCII=-A4FC- @ 1429, 'MakerNote Tag 0x001F': (0x001F) Signed Long=0 @ 214, 'MakerNote Tag 0x0020': (0x0020) ASCII=4A29-B9F7-B8BDE799BAE3 @ 1435, 'MakerNote Tag 0x0021': (0x0021) Signed Ratio=10289152/0 @ 1472, 'MakerNote Tag 0x0023': (0x0023) Signed Long=[8781827, -1804599296] @ 1480, 'MakerNote Tag 0x0026': (0x0026) Signed Long=3 @ 274, 'MakerNote Tag 0x0027': (0x0027) Signed Ratio=1094069554/808726829 @ 1496, 'MakerNote Tag 0x0028': (0x0028) Signed Long=1 @ 298, 'MakerNote Tag 0x002B': (0x002B) ASCII=4910-8719-FE485C67A3E5 @ 1504, 'MakerNote Tag 0x002D': (0x002D) Signed Long=5360 @ 322, 'MakerNote Tag 0x002E': (0x002E) Signed Long=1 @ 334, 'MakerNote Tag 0x002F': (0x002F) Signed Long=78 @ 346, 'MakerNote Tag 0x0030': (0x0030) Signed Ratio=808506369/33752069 @ 1541, 'MakerNote Tag 0x0033': (0x0033) Signed Long=4096 @ 370, 'MakerNote Tag 0x0034': (0x0034) Signed Long=4 @ 382, 'MakerNote Tag 0x0035': (0x0035) Signed Long=3 @ 394, 'MakerNote Tag 0x0036': (0x0036) Signed Long=53041 @ 406, 'MakerNote Tag 0x0037': (0x0037) Signed Long=4 @ 418, 'MakerNote Tag 0x0038': (0x0038) Signed Long=114 @ 430, 'MakerNote Tag 0x0039': (0x0039) Signed Long=0 @ 442, 'MakerNote Tag 0x003A': (0x003A) Signed Long=0 @ 454, 'MakerNote Tag 0x003B': (0x003B) Signed Long=1 @ 466, 'MakerNote Tag 0x003C': (0x003C) Signed Long=4 @ 478, 'MakerNote Tag 0x003D': (0x003D) Signed Long=11 @ 490, 'MakerNote Tag 0x003F': (0x003F) Signed Long=41 @ 502, 'MakerNote Tag 0x0040': (0x0040) Undefined=[6, 6, 7, 81, 51, 81, 49, 81, 50, 81, 48, 16, 0, 34, 0, 0, 0, 0, 16, 1, ... ] @ 1549, 'MakerNote Tag 0x0041': (0x0041) Signed Long=0 @ 526, 'MakerNote Tag 0x0042': (0x0042) Signed Long=0 @ 538, 'MakerNote Tag 0x0043': (0x0043) Signed Long=0 @ 550, 'MakerNote Tag 0x0044': (0x0044) Signed Long=0 @ 562, 'MakerNote Tag 0x0045': (0x0045) Signed Long=0 @ 574, 'MakerNote Tag 0x0046': (0x0046) Signed Long=0 @ 586, 'MakerNote Tag 0x0048': (0x0048) Signed Long=572 @ 598, 'MakerNote Tag 0x0049': (0x0049) Signed Long=0 @ 610, 'MakerNote Tag 0x004A': (0x004A) Signed Long=2 @ 622, 'MakerNote Tag 0x004D': (0x004D) Signed Ratio=808505857/33752145 @ 1623, 'MakerNote Tag 0x004E': (0x004E) Undefined=[49, 81, 50, 16, 3, 162, 5, 10, 210, 6, 7, 8, 9, 83, 50, 46, 49, 83, 50, 46, ... ] @ 1631, 'MakerNote Tag 0x004F': (0x004F) Undefined=[0, 0, 0, 1, 1, 0, 0, 0, 0, 0, 0, 0, 1, 0, 0, 0, 0, 0, 0, 0, 0, 0, 0, 0, 0, 0, 0, 0, 10, 0, 0, 4, 144, 245, 0, 2, 232, 143, 0, 0, 0, 9, 0] @ 1752, 'MakerNote Tag 0x0052': (0x0052) Signed Long=1 @ 670, 'MakerNote Tag 0x0053': (0x0053) Signed Long=1 @ 682, 'MakerNote Tag 0x0055': (0x0055) Signed Long=0 @ 694, 'MakerNote Tag 0x0058': (0x0058) Signed Long=1795 @ 706}\n",
      "纬度列表: [22, 18, 1061/100]\n",
      "经度列表: [114, 10, 1246/25]\n",
      "EXIF 标签: {'Image Make': (0x010F) ASCII=Apple @ 146, 'Image Model': (0x0110) ASCII=iPhone 13 Pro @ 152, 'Image Orientation': (0x0112) Short=Horizontal (normal) @ 42, 'Image XResolution': (0x011A) Ratio=72 @ 166, 'Image YResolution': (0x011B) Ratio=72 @ 174, 'Image ResolutionUnit': (0x0128) Short=Pixels/Inch @ 78, 'Image Software': (0x0131) ASCII=18.0.1 @ 182, 'Image DateTime': (0x0132) ASCII=2024:11:05 13:57:56 @ 190, 'Image HostComputer': (0x013C) ASCII=iPhone 13 Pro @ 210, 'Image ExifOffset': (0x8769) Long=224 @ 126, 'GPS GPSLatitudeRef': (0x0001) ASCII=N @ 2644, 'GPS GPSLatitude': (0x0002) Ratio=[22, 18, 591/50] @ 2820, 'GPS GPSLongitudeRef': (0x0003) ASCII=E @ 2668, 'GPS GPSLongitude': (0x0004) Ratio=[114, 10, 2463/50] @ 2844, 'GPS GPSAltitudeRef': (0x0005) Byte=1 @ 2692, 'GPS GPSAltitude': (0x0006) Ratio=98459/4491 @ 2868, 'GPS GPSTimeStamp': (0x0007) Ratio=[5, 57, 5599/100] @ 2876, 'GPS GPSSpeedRef': (0x000C) ASCII=K @ 2728, 'GPS GPSSpeed': (0x000D) Ratio=0 @ 2900, 'GPS GPSImgDirectionRef': (0x0010) ASCII=T @ 2752, 'GPS GPSImgDirection': (0x0011) Ratio=228721/2703 @ 2908, 'GPS GPSDestBearingRef': (0x0017) ASCII=T @ 2776, 'GPS GPSDestBearing': (0x0018) Ratio=228721/2703 @ 2916, 'GPS GPSDate': (0x001D) ASCII=2024:11:05 @ 2924, 'GPS Tag 0x001F': (0x001F) Ratio=220434/9275 @ 2936, 'Image GPSInfo': (0x8825) Long=2634 @ 138, 'EXIF ExposureTime': (0x829A) Ratio=1/3831 @ 626, 'EXIF FNumber': (0x829D) Ratio=3/2 @ 634, 'EXIF ExposureProgram': (0x8822) Short=Program Normal @ 258, 'EXIF ISOSpeedRatings': (0x8827) Short=50 @ 270, 'EXIF ExifVersion': (0x9000) Undefined=0232 @ 282, 'EXIF DateTimeOriginal': (0x9003) ASCII=2024:11:05 13:57:56 @ 642, 'EXIF DateTimeDigitized': (0x9004) ASCII=2024:11:05 13:57:56 @ 662, 'EXIF OffsetTime': (0x9010) ASCII=+08:00 @ 682, 'EXIF OffsetTimeOriginal': (0x9011) ASCII=+08:00 @ 690, 'EXIF OffsetTimeDigitized': (0x9012) ASCII=+08:00 @ 698, 'EXIF ShutterSpeedValue': (0x9201) Signed Ratio=122203/10266 @ 706, 'EXIF ApertureValue': (0x9202) Ratio=27767/23734 @ 714, 'EXIF BrightnessValue': (0x9203) Signed Ratio=75791/7602 @ 722, 'EXIF ExposureBiasValue': (0x9204) Signed Ratio=0 @ 730, 'EXIF MeteringMode': (0x9207) Short=Pattern @ 402, 'EXIF Flash': (0x9209) Short=Flash did not fire, compulsory flash mode @ 414, 'EXIF FocalLength': (0x920A) Ratio=57/10 @ 738, 'EXIF SubjectArea': (0x9214) Short=[2015, 1506, 2323, 1327] @ 746, 'EXIF MakerNote': (0x927C) Undefined=[65, 112, 112, 108, 101, 32, 105, 79, 83, 0, 0, 1, 77, 77, 0, 59, 0, 1, 0, 9, ... ] @ 754, 'EXIF SubSecTimeOriginal': (0x9291) ASCII=668 @ 462, 'EXIF SubSecTimeDigitized': (0x9292) ASCII=668 @ 474, 'EXIF ColorSpace': (0xA001) Short=Uncalibrated @ 486, 'EXIF ExifImageWidth': (0xA002) Long=4032 @ 498, 'EXIF ExifImageLength': (0xA003) Long=3024 @ 510, 'EXIF SensingMethod': (0xA217) Short=One-chip color area @ 522, 'EXIF SceneType': (0xA301) Undefined=Directly Photographed @ 534, 'EXIF ExposureMode': (0xA402) Short=Auto Exposure @ 546, 'EXIF WhiteBalance': (0xA403) Short=Auto @ 558, 'EXIF FocalLengthIn35mmFilm': (0xA405) Short=26 @ 570, 'EXIF LensSpecification': (0xA432) Ratio=[299253/190607, 9, 3/2, 14/5] @ 2550, 'EXIF LensMake': (0xA433) ASCII=Apple @ 2582, 'EXIF LensModel': (0xA434) ASCII=iPhone 13 Pro back triple camera 5.7mm f/1.5 @ 2588, 'EXIF Tag 0xA460': (0xA460) Short=2 @ 618, 'MakerNote Tag 0x0001': (0x0001) Signed Long=15 @ 10, 'MakerNote Tag 0x0002': (0x0002) Undefined=[31, 1, 41, 1, 53, 1, 67, 1, 80, 1, 89, 1, 93, 1, 103, 1, 110, 1, 30, 1, ... ] @ 728, 'MakerNote Tag 0x0003': (0x0003) Undefined=[6, 7, 8, 85, 102, 108, 97, 103, 115, 85, 118, 97, 108, 117, 101, 89, 116, 105, 109, 101, ... ] @ 1240, 'MakerNote Tag 0x0004': (0x0004) Signed Long=1 @ 46, 'MakerNote Tag 0x0005': (0x0005) Signed Long=186 @ 58, 'MakerNote Tag 0x0006': (0x0006) Signed Long=192 @ 70, 'MakerNote Tag 0x0007': (0x0007) Signed Long=1 @ 82, 'MakerNote Tag 0x0008': (0x0008) Signed Ratio=[959971328/325517313, 5165/133, 256/9] @ 1344, 'MakerNote Tag 0x000C': (0x000C) Signed Ratio=[2801851/275517718, 1177890104/875705645] @ 1368, 'MakerNote Tag 0x000D': (0x000D) Signed Long=36 @ 118, 'MakerNote Tag 0x000E': (0x000E) Signed Long=0 @ 130, 'MakerNote Tag 0x0010': (0x0010) Signed Long=1 @ 142, 'MakerNote Tag 0x0011': (0x0011) ASCII=4CD9-911D-2803589782BA @ 1384, 'MakerNote Tag 0x0014': (0x0014) Signed Long=10 @ 166, 'MakerNote Tag 0x0019': (0x0019) Signed Long=2 @ 190, 'MakerNote Tag 0x001A': (0x001A) ASCII=-5245- @ 1429, 'MakerNote Tag 0x001F': (0x001F) Signed Long=0 @ 214, 'MakerNote Tag 0x0020': (0x0020) ASCII=4AED-8B74-EB4A1AE7B66B @ 1435, 'MakerNote Tag 0x0021': (0x0021) Signed Ratio=3014656/0 @ 1472, 'MakerNote Tag 0x0023': (0x0023) Signed Long=[8781827, 793575424] @ 1480, 'MakerNote Tag 0x0026': (0x0026) Signed Long=3 @ 274, 'MakerNote Tag 0x0027': (0x0027) Signed Ratio=910241089/875774765 @ 1496, 'MakerNote Tag 0x0028': (0x0028) Signed Long=1 @ 298, 'MakerNote Tag 0x002B': (0x002B) ASCII=4209-AFA4-DA2403387531 @ 1504, 'MakerNote Tag 0x002D': (0x002D) Signed Long=5360 @ 322, 'MakerNote Tag 0x002E': (0x002E) Signed Long=1 @ 334, 'MakerNote Tag 0x002F': (0x002F) Signed Long=71 @ 346, 'MakerNote Tag 0x0030': (0x0030) Signed Ratio=808506369/33752069 @ 1541, 'MakerNote Tag 0x0033': (0x0033) Signed Long=4096 @ 370, 'MakerNote Tag 0x0034': (0x0034) Signed Long=4 @ 382, 'MakerNote Tag 0x0035': (0x0035) Signed Long=3 @ 394, 'MakerNote Tag 0x0036': (0x0036) Signed Long=61147 @ 406, 'MakerNote Tag 0x0037': (0x0037) Signed Long=4 @ 418, 'MakerNote Tag 0x0038': (0x0038) Signed Long=572 @ 430, 'MakerNote Tag 0x0039': (0x0039) Signed Long=0 @ 442, 'MakerNote Tag 0x003A': (0x003A) Signed Long=0 @ 454, 'MakerNote Tag 0x003B': (0x003B) Signed Long=1 @ 466, 'MakerNote Tag 0x003C': (0x003C) Signed Long=4 @ 478, 'MakerNote Tag 0x003D': (0x003D) Signed Long=0 @ 490, 'MakerNote Tag 0x003F': (0x003F) Signed Long=41 @ 502, 'MakerNote Tag 0x0040': (0x0040) Undefined=[6, 6, 7, 81, 51, 81, 49, 81, 50, 81, 48, 16, 0, 34, 0, 0, 0, 0, 16, 1, ... ] @ 1549, 'MakerNote Tag 0x0041': (0x0041) Signed Long=0 @ 526, 'MakerNote Tag 0x0042': (0x0042) Signed Long=0 @ 538, 'MakerNote Tag 0x0043': (0x0043) Signed Long=0 @ 550, 'MakerNote Tag 0x0044': (0x0044) Signed Long=0 @ 562, 'MakerNote Tag 0x0045': (0x0045) Signed Long=0 @ 574, 'MakerNote Tag 0x0046': (0x0046) Signed Long=0 @ 586, 'MakerNote Tag 0x0048': (0x0048) Signed Long=572 @ 598, 'MakerNote Tag 0x0049': (0x0049) Signed Long=0 @ 610, 'MakerNote Tag 0x004A': (0x004A) Signed Long=2 @ 622, 'MakerNote Tag 0x004D': (0x004D) Signed Ratio=808505857/33752145 @ 1623, 'MakerNote Tag 0x004E': (0x004E) Undefined=[49, 81, 50, 16, 3, 162, 5, 10, 210, 6, 7, 8, 9, 83, 50, 46, 49, 83, 50, 46, ... ] @ 1631, 'MakerNote Tag 0x004F': (0x004F) Undefined=[0, 0, 0, 1, 1, 0, 0, 0, 0, 0, 0, 0, 1, 0, 0, 0, 0, 0, 0, 0, 0, 0, 0, 0, 0, 0, 0, 0, 10, 0, 0, 4, 144, 245, 0, 2, 232, 143, 0, 0, 0, 9, 0] @ 1752, 'MakerNote Tag 0x0052': (0x0052) Signed Long=2 @ 670, 'MakerNote Tag 0x0053': (0x0053) Signed Long=1 @ 682, 'MakerNote Tag 0x0055': (0x0055) Signed Long=0 @ 694, 'MakerNote Tag 0x0058': (0x0058) Signed Long=1795 @ 706}\n",
      "纬度列表: [22, 18, 591/50]\n",
      "经度列表: [114, 10, 2463/50]\n",
      "EXIF 标签: {'Image Make': (0x010F) ASCII=Apple @ 146, 'Image Model': (0x0110) ASCII=iPhone 13 Pro @ 152, 'Image Orientation': (0x0112) Short=Horizontal (normal) @ 42, 'Image XResolution': (0x011A) Ratio=72 @ 166, 'Image YResolution': (0x011B) Ratio=72 @ 174, 'Image ResolutionUnit': (0x0128) Short=Pixels/Inch @ 78, 'Image Software': (0x0131) ASCII=18.0.1 @ 182, 'Image DateTime': (0x0132) ASCII=2024:11:05 13:59:34 @ 190, 'Image HostComputer': (0x013C) ASCII=iPhone 13 Pro @ 210, 'Image ExifOffset': (0x8769) Long=224 @ 126, 'GPS GPSLatitudeRef': (0x0001) ASCII=N @ 2644, 'GPS GPSLatitude': (0x0002) Ratio=[22, 18, 1299/100] @ 2820, 'GPS GPSLongitudeRef': (0x0003) ASCII=E @ 2668, 'GPS GPSLongitude': (0x0004) Ratio=[114, 10, 4979/100] @ 2844, 'GPS GPSAltitudeRef': (0x0005) Byte=0 @ 2692, 'GPS GPSAltitude': (0x0006) Ratio=86/25 @ 2868, 'GPS GPSTimeStamp': (0x0007) Ratio=[5, 59, 152/5] @ 2876, 'GPS GPSSpeedRef': (0x000C) ASCII=K @ 2728, 'GPS GPSSpeed': (0x000D) Ratio=0 @ 2900, 'GPS GPSImgDirectionRef': (0x0010) ASCII=T @ 2752, 'GPS GPSImgDirection': (0x0011) Ratio=255797/2391 @ 2908, 'GPS GPSDestBearingRef': (0x0017) ASCII=T @ 2776, 'GPS GPSDestBearing': (0x0018) Ratio=255797/2391 @ 2916, 'GPS GPSDate': (0x001D) ASCII=2024:11:05 @ 2924, 'GPS Tag 0x001F': (0x001F) Ratio=75559/1208 @ 2936, 'Image GPSInfo': (0x8825) Long=2634 @ 138, 'EXIF ExposureTime': (0x829A) Ratio=1/121 @ 626, 'EXIF FNumber': (0x829D) Ratio=3/2 @ 634, 'EXIF ExposureProgram': (0x8822) Short=Program Normal @ 258, 'EXIF ISOSpeedRatings': (0x8827) Short=100 @ 270, 'EXIF ExifVersion': (0x9000) Undefined=0232 @ 282, 'EXIF DateTimeOriginal': (0x9003) ASCII=2024:11:05 13:59:34 @ 642, 'EXIF DateTimeDigitized': (0x9004) ASCII=2024:11:05 13:59:34 @ 662, 'EXIF OffsetTime': (0x9010) ASCII=+08:00 @ 682, 'EXIF OffsetTimeOriginal': (0x9011) ASCII=+08:00 @ 690, 'EXIF OffsetTimeDigitized': (0x9012) ASCII=+08:00 @ 698, 'EXIF ShutterSpeedValue': (0x9201) Signed Ratio=67814/9797 @ 706, 'EXIF ApertureValue': (0x9202) Ratio=27767/23734 @ 714, 'EXIF BrightnessValue': (0x9203) Signed Ratio=17946/4693 @ 722, 'EXIF ExposureBiasValue': (0x9204) Signed Ratio=0 @ 730, 'EXIF MeteringMode': (0x9207) Short=Pattern @ 402, 'EXIF Flash': (0x9209) Short=Flash did not fire, compulsory flash mode @ 414, 'EXIF FocalLength': (0x920A) Ratio=57/10 @ 738, 'EXIF SubjectArea': (0x9214) Short=[2015, 1506, 2323, 1327] @ 746, 'EXIF MakerNote': (0x927C) Undefined=[65, 112, 112, 108, 101, 32, 105, 79, 83, 0, 0, 1, 77, 77, 0, 59, 0, 1, 0, 9, ... ] @ 754, 'EXIF SubSecTimeOriginal': (0x9291) ASCII=332 @ 462, 'EXIF SubSecTimeDigitized': (0x9292) ASCII=332 @ 474, 'EXIF ColorSpace': (0xA001) Short=Uncalibrated @ 486, 'EXIF ExifImageWidth': (0xA002) Long=4032 @ 498, 'EXIF ExifImageLength': (0xA003) Long=3024 @ 510, 'EXIF SensingMethod': (0xA217) Short=One-chip color area @ 522, 'EXIF SceneType': (0xA301) Undefined=Directly Photographed @ 534, 'EXIF ExposureMode': (0xA402) Short=Auto Exposure @ 546, 'EXIF WhiteBalance': (0xA403) Short=Auto @ 558, 'EXIF FocalLengthIn35mmFilm': (0xA405) Short=26 @ 570, 'EXIF LensSpecification': (0xA432) Ratio=[299253/190607, 9, 3/2, 14/5] @ 2550, 'EXIF LensMake': (0xA433) ASCII=Apple @ 2582, 'EXIF LensModel': (0xA434) ASCII=iPhone 13 Pro back triple camera 5.7mm f/1.5 @ 2588, 'EXIF Tag 0xA460': (0xA460) Short=2 @ 618, 'MakerNote Tag 0x0001': (0x0001) Signed Long=15 @ 10, 'MakerNote Tag 0x0002': (0x0002) Undefined=[129, 0, 134, 0, 134, 0, 136, 0, 136, 0, 134, 0, 133, 0, 125, 0, 114, 0, 144, 0, ... ] @ 728, 'MakerNote Tag 0x0003': (0x0003) Undefined=[6, 7, 8, 85, 102, 108, 97, 103, 115, 85, 118, 97, 108, 117, 101, 89, 116, 105, 109, 101, ... ] @ 1240, 'MakerNote Tag 0x0004': (0x0004) Signed Long=1 @ 46, 'MakerNote Tag 0x0005': (0x0005) Signed Long=184 @ 58, 'MakerNote Tag 0x0006': (0x0006) Signed Long=185 @ 70, 'MakerNote Tag 0x0007': (0x0007) Signed Long=1 @ 82, 'MakerNote Tag 0x0008': (0x0008) Signed Ratio=[894730240/621641729, -872/33, 64/349] @ 1344, 'MakerNote Tag 0x000C': (0x000C) Signed Ratio=[16794434/1178813765, 842214710/875573549] @ 1368, 'MakerNote Tag 0x000D': (0x000D) Signed Long=36 @ 118, 'MakerNote Tag 0x000E': (0x000E) Signed Long=0 @ 130, 'MakerNote Tag 0x0010': (0x0010) Signed Long=1 @ 142, 'MakerNote Tag 0x0011': (0x0011) ASCII=48F3-A850-86E8A11AEE6B @ 1384, 'MakerNote Tag 0x0014': (0x0014) Signed Long=10 @ 166, 'MakerNote Tag 0x0019': (0x0019) Signed Long=2 @ 190, 'MakerNote Tag 0x001A': (0x001A) ASCII=-A70B- @ 1429, 'MakerNote Tag 0x001F': (0x001F) Signed Long=0 @ 214, 'MakerNote Tag 0x0020': (0x0020) ASCII=4FD7-97F6-DDD04016C606 @ 1435, 'MakerNote Tag 0x0021': (0x0021) Signed Ratio=3407872/0 @ 1472, 'MakerNote Tag 0x0023': (0x0023) Signed Long=[9306115, -1187250176] @ 1480, 'MakerNote Tag 0x0026': (0x0026) Signed Long=3 @ 274, 'MakerNote Tag 0x0027': (0x0027) Signed Ratio=909258037/860172589 @ 1496, 'MakerNote Tag 0x0028': (0x0028) Signed Long=1 @ 298, 'MakerNote Tag 0x002B': (0x002B) ASCII=4683-B9C7-DFA4FBE8D230 @ 1504, 'MakerNote Tag 0x002D': (0x002D) Signed Long=4299 @ 322, 'MakerNote Tag 0x002E': (0x002E) Signed Long=1 @ 334, 'MakerNote Tag 0x002F': (0x002F) Signed Long=76 @ 346, 'MakerNote Tag 0x0030': (0x0030) Signed Ratio=808506369/33752069 @ 1541, 'MakerNote Tag 0x0033': (0x0033) Signed Long=4096 @ 370, 'MakerNote Tag 0x0034': (0x0034) Signed Long=4 @ 382, 'MakerNote Tag 0x0035': (0x0035) Signed Long=3 @ 394, 'MakerNote Tag 0x0036': (0x0036) Signed Long=796 @ 406, 'MakerNote Tag 0x0037': (0x0037) Signed Long=4 @ 418, 'MakerNote Tag 0x0038': (0x0038) Signed Long=213 @ 430, 'MakerNote Tag 0x0039': (0x0039) Signed Long=0 @ 442, 'MakerNote Tag 0x003A': (0x003A) Signed Long=0 @ 454, 'MakerNote Tag 0x003B': (0x003B) Signed Long=2 @ 466, 'MakerNote Tag 0x003C': (0x003C) Signed Long=4 @ 478, 'MakerNote Tag 0x003D': (0x003D) Signed Long=27 @ 490, 'MakerNote Tag 0x003F': (0x003F) Signed Long=1 @ 502, 'MakerNote Tag 0x0040': (0x0040) Undefined=[6, 6, 7, 81, 51, 81, 49, 81, 50, 81, 48, 16, 0, 34, 0, 0, 0, 0, 16, 1, ... ] @ 1549, 'MakerNote Tag 0x0041': (0x0041) Signed Long=0 @ 526, 'MakerNote Tag 0x0042': (0x0042) Signed Long=0 @ 538, 'MakerNote Tag 0x0043': (0x0043) Signed Long=0 @ 550, 'MakerNote Tag 0x0044': (0x0044) Signed Long=0 @ 562, 'MakerNote Tag 0x0045': (0x0045) Signed Long=0 @ 574, 'MakerNote Tag 0x0046': (0x0046) Signed Long=0 @ 586, 'MakerNote Tag 0x0048': (0x0048) Signed Long=573 @ 598, 'MakerNote Tag 0x0049': (0x0049) Signed Long=0 @ 610, 'MakerNote Tag 0x004A': (0x004A) Signed Long=2 @ 622, 'MakerNote Tag 0x004D': (0x004D) Signed Ratio=808505857/33752145 @ 1623, 'MakerNote Tag 0x004E': (0x004E) Undefined=[49, 81, 50, 16, 3, 162, 5, 10, 210, 6, 7, 8, 9, 83, 50, 46, 49, 83, 50, 46, ... ] @ 1631, 'MakerNote Tag 0x004F': (0x004F) Undefined=[0, 0, 0, 1, 1, 0, 0, 0, 0, 0, 0, 0, 1, 0, 0, 0, 0, 0, 0, 0, 0, 0, 0, 0, 0, 0, 0, 0, 10, 0, 0, 4, 144, 245, 0, 2, 232, 143, 0, 0, 0, 9, 0] @ 1752, 'MakerNote Tag 0x0052': (0x0052) Signed Long=1 @ 670, 'MakerNote Tag 0x0053': (0x0053) Signed Long=1 @ 682, 'MakerNote Tag 0x0055': (0x0055) Signed Long=0 @ 694, 'MakerNote Tag 0x0058': (0x0058) Signed Long=1795 @ 706}\n",
      "纬度列表: [22, 18, 1299/100]\n",
      "经度列表: [114, 10, 4979/100]\n",
      "EXIF 标签: {'Image Make': (0x010F) ASCII=Apple @ 146, 'Image Model': (0x0110) ASCII=iPhone 13 Pro @ 152, 'Image Orientation': (0x0112) Short=Horizontal (normal) @ 42, 'Image XResolution': (0x011A) Ratio=72 @ 166, 'Image YResolution': (0x011B) Ratio=72 @ 174, 'Image ResolutionUnit': (0x0128) Short=Pixels/Inch @ 78, 'Image Software': (0x0131) ASCII=18.0.1 @ 182, 'Image DateTime': (0x0132) ASCII=2024:11:05 14:00:03 @ 190, 'Image HostComputer': (0x013C) ASCII=iPhone 13 Pro @ 210, 'Image ExifOffset': (0x8769) Long=224 @ 126, 'GPS GPSLatitudeRef': (0x0001) ASCII=N @ 2644, 'GPS GPSLatitude': (0x0002) Ratio=[22, 18, 661/50] @ 2820, 'GPS GPSLongitudeRef': (0x0003) ASCII=E @ 2668, 'GPS GPSLongitude': (0x0004) Ratio=[114, 10, 2507/50] @ 2844, 'GPS GPSAltitudeRef': (0x0005) Byte=0 @ 2692, 'GPS GPSAltitude': (0x0006) Ratio=31304/7165 @ 2868, 'GPS GPSTimeStamp': (0x0007) Ratio=[5, 59, 2927/50] @ 2876, 'GPS GPSSpeedRef': (0x000C) ASCII=K @ 2728, 'GPS GPSSpeed': (0x000D) Ratio=0 @ 2900, 'GPS GPSImgDirectionRef': (0x0010) ASCII=T @ 2752, 'GPS GPSImgDirection': (0x0011) Ratio=253661/1853 @ 2908, 'GPS GPSDestBearingRef': (0x0017) ASCII=T @ 2776, 'GPS GPSDestBearing': (0x0018) Ratio=253661/1853 @ 2916, 'GPS GPSDate': (0x001D) ASCII=2024:11:05 @ 2924, 'GPS Tag 0x001F': (0x001F) Ratio=313689/4487 @ 2936, 'Image GPSInfo': (0x8825) Long=2634 @ 138, 'EXIF ExposureTime': (0x829A) Ratio=1/100 @ 626, 'EXIF FNumber': (0x829D) Ratio=3/2 @ 634, 'EXIF ExposureProgram': (0x8822) Short=Program Normal @ 258, 'EXIF ISOSpeedRatings': (0x8827) Short=100 @ 270, 'EXIF ExifVersion': (0x9000) Undefined=0232 @ 282, 'EXIF DateTimeOriginal': (0x9003) ASCII=2024:11:05 14:00:03 @ 642, 'EXIF DateTimeDigitized': (0x9004) ASCII=2024:11:05 14:00:03 @ 662, 'EXIF OffsetTime': (0x9010) ASCII=+08:00 @ 682, 'EXIF OffsetTimeOriginal': (0x9011) ASCII=+08:00 @ 690, 'EXIF OffsetTimeDigitized': (0x9012) ASCII=+08:00 @ 698, 'EXIF ShutterSpeedValue': (0x9201) Signed Ratio=150141/22597 @ 706, 'EXIF ApertureValue': (0x9202) Ratio=27767/23734 @ 714, 'EXIF BrightnessValue': (0x9203) Signed Ratio=187529/51796 @ 722, 'EXIF ExposureBiasValue': (0x9204) Signed Ratio=0 @ 730, 'EXIF MeteringMode': (0x9207) Short=Pattern @ 402, 'EXIF Flash': (0x9209) Short=Flash did not fire, compulsory flash mode @ 414, 'EXIF FocalLength': (0x920A) Ratio=57/10 @ 738, 'EXIF SubjectArea': (0x9214) Short=[2012, 1506, 2217, 1327] @ 746, 'EXIF MakerNote': (0x927C) Undefined=[65, 112, 112, 108, 101, 32, 105, 79, 83, 0, 0, 1, 77, 77, 0, 59, 0, 1, 0, 9, ... ] @ 754, 'EXIF SubSecTimeOriginal': (0x9291) ASCII=760 @ 462, 'EXIF SubSecTimeDigitized': (0x9292) ASCII=760 @ 474, 'EXIF ColorSpace': (0xA001) Short=Uncalibrated @ 486, 'EXIF ExifImageWidth': (0xA002) Long=4032 @ 498, 'EXIF ExifImageLength': (0xA003) Long=3024 @ 510, 'EXIF SensingMethod': (0xA217) Short=One-chip color area @ 522, 'EXIF SceneType': (0xA301) Undefined=Directly Photographed @ 534, 'EXIF ExposureMode': (0xA402) Short=Auto Exposure @ 546, 'EXIF WhiteBalance': (0xA403) Short=Auto @ 558, 'EXIF FocalLengthIn35mmFilm': (0xA405) Short=26 @ 570, 'EXIF LensSpecification': (0xA432) Ratio=[299253/190607, 9, 3/2, 14/5] @ 2550, 'EXIF LensMake': (0xA433) ASCII=Apple @ 2582, 'EXIF LensModel': (0xA434) ASCII=iPhone 13 Pro back triple camera 5.7mm f/1.5 @ 2588, 'EXIF Tag 0xA460': (0xA460) Short=2 @ 618, 'MakerNote Tag 0x0001': (0x0001) Signed Long=15 @ 10, 'MakerNote Tag 0x0002': (0x0002) Undefined=[79, 0, 64, 0, 74, 0, 78, 0, 69, 0, 49, 0, 39, 0, 38, 0, 41, 0, 21, 0, ... ] @ 728, 'MakerNote Tag 0x0003': (0x0003) Undefined=[6, 7, 8, 85, 102, 108, 97, 103, 115, 85, 118, 97, 108, 117, 101, 89, 116, 105, 109, 101, ... ] @ 1240, 'MakerNote Tag 0x0004': (0x0004) Signed Long=1 @ 46, 'MakerNote Tag 0x0005': (0x0005) Signed Long=169 @ 58, 'MakerNote Tag 0x0006': (0x0006) Signed Long=175 @ 70, 'MakerNote Tag 0x0007': (0x0007) Signed Long=1 @ 82, 'MakerNote Tag 0x0008': (0x0008) Signed Ratio=[311853056/10878977, 19613/21, 256/17] @ 1344, 'MakerNote Tag 0x000C': (0x000C) Signed Ratio=[16791600/892355633, 218735269/191983881] @ 1368, 'MakerNote Tag 0x000D': (0x000D) Signed Long=36 @ 118, 'MakerNote Tag 0x000E': (0x000E) Signed Long=0 @ 130, 'MakerNote Tag 0x0010': (0x0010) Signed Long=1 @ 142, 'MakerNote Tag 0x0011': (0x0011) ASCII=4D33-BEB0-53389ED7783A @ 1384, 'MakerNote Tag 0x0014': (0x0014) Signed Long=10 @ 166, 'MakerNote Tag 0x0019': (0x0019) Signed Long=2 @ 190, 'MakerNote Tag 0x001A': (0x001A) ASCII=-3106- @ 1429, 'MakerNote Tag 0x001F': (0x001F) Signed Long=0 @ 214, 'MakerNote Tag 0x0020': (0x0020) ASCII=4A04-996B-26E0A2DD1C74 @ 1435, 'MakerNote Tag 0x0021': (0x0021) Signed Ratio=2555904/0 @ 1472, 'MakerNote Tag 0x0023': (0x0023) Signed Long=[9306122, -1571160064] @ 1480, 'MakerNote Tag 0x0026': (0x0026) Signed Long=3 @ 274, 'MakerNote Tag 0x0027': (0x0027) Signed Ratio=825568578/859124525 @ 1496, 'MakerNote Tag 0x0028': (0x0028) Signed Long=2 @ 298, 'MakerNote Tag 0x002B': (0x002B) ASCII=40CD-92CF-26A299CEBC0B @ 1504, 'MakerNote Tag 0x002D': (0x002D) Signed Long=3889 @ 322, 'MakerNote Tag 0x002E': (0x002E) Signed Long=1 @ 334, 'MakerNote Tag 0x002F': (0x002F) Signed Long=75 @ 346, 'MakerNote Tag 0x0030': (0x0030) Signed Ratio=808506369/33752069 @ 1541, 'MakerNote Tag 0x0033': (0x0033) Signed Long=4096 @ 370, 'MakerNote Tag 0x0034': (0x0034) Signed Long=4 @ 382, 'MakerNote Tag 0x0035': (0x0035) Signed Long=3 @ 394, 'MakerNote Tag 0x0036': (0x0036) Signed Long=627 @ 406, 'MakerNote Tag 0x0037': (0x0037) Signed Long=4 @ 418, 'MakerNote Tag 0x0038': (0x0038) Signed Long=242 @ 430, 'MakerNote Tag 0x0039': (0x0039) Signed Long=0 @ 442, 'MakerNote Tag 0x003A': (0x003A) Signed Long=0 @ 454, 'MakerNote Tag 0x003B': (0x003B) Signed Long=2 @ 466, 'MakerNote Tag 0x003C': (0x003C) Signed Long=4 @ 478, 'MakerNote Tag 0x003D': (0x003D) Signed Long=16 @ 490, 'MakerNote Tag 0x003F': (0x003F) Signed Long=1 @ 502, 'MakerNote Tag 0x0040': (0x0040) Undefined=[6, 6, 7, 81, 51, 81, 49, 81, 50, 81, 48, 16, 0, 34, 0, 0, 0, 0, 16, 1, ... ] @ 1549, 'MakerNote Tag 0x0041': (0x0041) Signed Long=0 @ 526, 'MakerNote Tag 0x0042': (0x0042) Signed Long=0 @ 538, 'MakerNote Tag 0x0043': (0x0043) Signed Long=0 @ 550, 'MakerNote Tag 0x0044': (0x0044) Signed Long=0 @ 562, 'MakerNote Tag 0x0045': (0x0045) Signed Long=0 @ 574, 'MakerNote Tag 0x0046': (0x0046) Signed Long=0 @ 586, 'MakerNote Tag 0x0048': (0x0048) Signed Long=573 @ 598, 'MakerNote Tag 0x0049': (0x0049) Signed Long=0 @ 610, 'MakerNote Tag 0x004A': (0x004A) Signed Long=2 @ 622, 'MakerNote Tag 0x004D': (0x004D) Signed Ratio=808505857/33752145 @ 1623, 'MakerNote Tag 0x004E': (0x004E) Undefined=[49, 81, 50, 16, 1, 162, 5, 10, 210, 6, 7, 8, 9, 83, 50, 46, 49, 83, 50, 46, ... ] @ 1631, 'MakerNote Tag 0x004F': (0x004F) Undefined=[0, 0, 0, 1, 1, 0, 0, 0, 0, 0, 0, 0, 1, 0, 0, 0, 0, 0, 0, 0, 0, 0, 0, 0, 0, 0, 0, 0, 10, 0, 0, 4, 144, 245, 0, 2, 232, 143, 0, 0, 0, 9, 0] @ 1752, 'MakerNote Tag 0x0052': (0x0052) Signed Long=0 @ 670, 'MakerNote Tag 0x0053': (0x0053) Signed Long=2 @ 682, 'MakerNote Tag 0x0055': (0x0055) Signed Long=0 @ 694, 'MakerNote Tag 0x0058': (0x0058) Signed Long=1795 @ 706}\n",
      "纬度列表: [22, 18, 661/50]\n",
      "经度列表: [114, 10, 2507/50]\n"
     ]
    }
   ],
   "source": [
    "\n",
    "\n",
    "# for each in os.listdir():  # 遍历每个文件\n",
    "#     if each == '.ipynb_checkpoints':  # 忽略'.ipynb_checkpoints'文件夹\n",
    "#         continue\n",
    "#     try:\n",
    "#         coord = get_coordinates(each)\n",
    "#         # 将每个文件的信息作为字典添加到列表中\n",
    "#         df_list.append({'FileName': each, 'Latitude': coord[0], 'Longitude': coord[1], 'Time': coord[2]})\n",
    "#     except Exception as e:\n",
    "#         print('文件{}无法解析: {}'.format(each, e))\n",
    "\n",
    "for folder_path, subfolders, filenames in os.walk('Transportation/'):\n",
    "    for each in filenames:\n",
    "        if each.endswith('.ipynb_checkpoints'):  # 忽略 '.ipynb_checkpoints' 文件\n",
    "            continue\n",
    "        file_path = os.path.join(folder_path, each)  # 获取文件的完整路径\n",
    "        try:\n",
    "            coord = get_coordinates(file_path)\n",
    "            if coord is not None:\n",
    "                # 将每个文件的信息作为字典添加到列表中\n",
    "                df_list.append({\n",
    "                    'FolderName': os.path.basename(folder_path),  # 添加文件夹名\n",
    "                    'FileName': each,\n",
    "                    'Latitude': coord[0],\n",
    "                    'Longitude': coord[1],\n",
    "                    'Time': coord[2]\n",
    "                })\n",
    "            else:\n",
    "                print(f\"文件 {each} 缺少 GPS 信息\")\n",
    "        except Exception as e:\n",
    "            print(f'文件{each}无法解析: {e}')\n",
    "\n",
    "# 最后将列表转换为 DataFrame\n",
    "df = pd.DataFrame(df_list)"
   ]
  },
  {
   "cell_type": "code",
   "execution_count": 31,
   "metadata": {},
   "outputs": [
    {
     "name": "stdout",
     "output_type": "stream",
     "text": [
      "['.ipynb_checkpoints', 'Transportation']\n"
     ]
    }
   ],
   "source": [
    "print(os.listdir('.'))"
   ]
  },
  {
   "cell_type": "code",
   "execution_count": 32,
   "metadata": {},
   "outputs": [
    {
     "data": {
      "text/html": [
       "<div>\n",
       "<style scoped>\n",
       "    .dataframe tbody tr th:only-of-type {\n",
       "        vertical-align: middle;\n",
       "    }\n",
       "\n",
       "    .dataframe tbody tr th {\n",
       "        vertical-align: top;\n",
       "    }\n",
       "\n",
       "    .dataframe thead th {\n",
       "        text-align: right;\n",
       "    }\n",
       "</style>\n",
       "<table border=\"1\" class=\"dataframe\">\n",
       "  <thead>\n",
       "    <tr style=\"text-align: right;\">\n",
       "      <th></th>\n",
       "      <th>FolderName</th>\n",
       "      <th>FileName</th>\n",
       "      <th>Latitude</th>\n",
       "      <th>Longitude</th>\n",
       "      <th>Time</th>\n",
       "    </tr>\n",
       "  </thead>\n",
       "  <tbody>\n",
       "    <tr>\n",
       "      <th>0</th>\n",
       "      <td>BusStation</td>\n",
       "      <td>Bus_Station_1.jpg</td>\n",
       "      <td>22.302875</td>\n",
       "      <td>114.178031</td>\n",
       "      <td>2024:11:05 13:35:56</td>\n",
       "    </tr>\n",
       "    <tr>\n",
       "      <th>1</th>\n",
       "      <td>BusStation</td>\n",
       "      <td>Bus_Station_2.jpg</td>\n",
       "      <td>22.302806</td>\n",
       "      <td>114.177917</td>\n",
       "      <td>2024:11:05 13:36:20</td>\n",
       "    </tr>\n",
       "    <tr>\n",
       "      <th>2</th>\n",
       "      <td>CrossHarbourTunnelBBI</td>\n",
       "      <td>Cross_Harbour_Tunnel_BBI_1.jpg</td>\n",
       "      <td>22.303436</td>\n",
       "      <td>114.180306</td>\n",
       "      <td>2024:11:05 13:56:43</td>\n",
       "    </tr>\n",
       "    <tr>\n",
       "      <th>3</th>\n",
       "      <td>CrossHarbourTunnelBBI</td>\n",
       "      <td>Cross_Harbour_Tunnel_BBI_2.jpg</td>\n",
       "      <td>22.302947</td>\n",
       "      <td>114.180511</td>\n",
       "      <td>2024:11:05 13:57:48</td>\n",
       "    </tr>\n",
       "    <tr>\n",
       "      <th>4</th>\n",
       "      <td>CrossHarbourTunnelBBI</td>\n",
       "      <td>Cross_Harbour_Tunnel_BBI_3.jpg</td>\n",
       "      <td>22.303283</td>\n",
       "      <td>114.180350</td>\n",
       "      <td>2024:11:05 13:57:56</td>\n",
       "    </tr>\n",
       "    <tr>\n",
       "      <th>5</th>\n",
       "      <td>HungHomStation</td>\n",
       "      <td>Hung_Hom_Station_1.jpg</td>\n",
       "      <td>22.303608</td>\n",
       "      <td>114.180497</td>\n",
       "      <td>2024:11:05 13:59:34</td>\n",
       "    </tr>\n",
       "    <tr>\n",
       "      <th>6</th>\n",
       "      <td>HungHomStation</td>\n",
       "      <td>Hung_Hom_Station_2.jpg</td>\n",
       "      <td>22.303672</td>\n",
       "      <td>114.180594</td>\n",
       "      <td>2024:11:05 14:00:03</td>\n",
       "    </tr>\n",
       "  </tbody>\n",
       "</table>\n",
       "</div>"
      ],
      "text/plain": [
       "              FolderName                        FileName   Latitude  \\\n",
       "0             BusStation               Bus_Station_1.jpg  22.302875   \n",
       "1             BusStation               Bus_Station_2.jpg  22.302806   \n",
       "2  CrossHarbourTunnelBBI  Cross_Harbour_Tunnel_BBI_1.jpg  22.303436   \n",
       "3  CrossHarbourTunnelBBI  Cross_Harbour_Tunnel_BBI_2.jpg  22.302947   \n",
       "4  CrossHarbourTunnelBBI  Cross_Harbour_Tunnel_BBI_3.jpg  22.303283   \n",
       "5         HungHomStation          Hung_Hom_Station_1.jpg  22.303608   \n",
       "6         HungHomStation          Hung_Hom_Station_2.jpg  22.303672   \n",
       "\n",
       "    Longitude                 Time  \n",
       "0  114.178031  2024:11:05 13:35:56  \n",
       "1  114.177917  2024:11:05 13:36:20  \n",
       "2  114.180306  2024:11:05 13:56:43  \n",
       "3  114.180511  2024:11:05 13:57:48  \n",
       "4  114.180350  2024:11:05 13:57:56  \n",
       "5  114.180497  2024:11:05 13:59:34  \n",
       "6  114.180594  2024:11:05 14:00:03  "
      ]
     },
     "execution_count": 32,
     "metadata": {},
     "output_type": "execute_result"
    }
   ],
   "source": [
    "df"
   ]
  },
  {
   "cell_type": "code",
   "execution_count": 33,
   "metadata": {},
   "outputs": [
    {
     "name": "stdout",
     "output_type": "stream",
     "text": [
      "['.ipynb_checkpoints', '1.getLatitudeLongtitudeFromPhotos-Copy1.ipynb', '2.DrawMap-Copy1.ipynb', '2.DrawMap.ipynb', 'FileName&Infomation.csv', 'images', 'Step1getTransportaionLatitudeLongtitudeFromPhotos.ipynb', 'Transportation.csv', '拍照地点分布地图.html']\n"
     ]
    }
   ],
   "source": [
    "# 返回上一级目录\n",
    "os.chdir('../')\n",
    "print(os.listdir('.'))"
   ]
  },
  {
   "cell_type": "markdown",
   "metadata": {},
   "source": [
    "## 保存照片文件名及经纬度表格"
   ]
  },
  {
   "cell_type": "code",
   "execution_count": 34,
   "metadata": {},
   "outputs": [],
   "source": [
    "df.to_csv('Transportation.csv', index=False, encoding='utf-8')"
   ]
  },
  {
   "cell_type": "code",
   "execution_count": null,
   "metadata": {},
   "outputs": [],
   "source": []
  },
  {
   "cell_type": "code",
   "execution_count": null,
   "metadata": {},
   "outputs": [],
   "source": []
  }
 ],
 "metadata": {
  "kernelspec": {
   "display_name": "Python 3 (ipykernel)",
   "language": "python",
   "name": "python3"
  },
  "language_info": {
   "codemirror_mode": {
    "name": "ipython",
    "version": 3
   },
   "file_extension": ".py",
   "mimetype": "text/x-python",
   "name": "python",
   "nbconvert_exporter": "python",
   "pygments_lexer": "ipython3",
   "version": "3.12.4"
  }
 },
 "nbformat": 4,
 "nbformat_minor": 4
}
