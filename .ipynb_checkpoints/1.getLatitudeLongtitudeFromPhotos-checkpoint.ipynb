{
 "cells": [
  {
   "cell_type": "markdown",
   "metadata": {},
   "source": [
    "# 提取照片经纬度\n",
    "\n",
    "作者：同济子豪兄 https://space.bilibili.com/1900783\n",
    "\n",
    "2022-4-29"
   ]
  },
  {
   "cell_type": "code",
   "execution_count": 1,
   "metadata": {},
   "outputs": [],
   "source": [
    "import pandas as pd\n",
    "\n",
    "import os\n",
    "\n",
    "import exifread\n",
    "from fractions import Fraction"
   ]
  },
  {
   "cell_type": "markdown",
   "metadata": {},
   "source": [
    "## 从图像的EXIF信息中解析经纬度"
   ]
  },
  {
   "cell_type": "code",
   "execution_count": 2,
   "metadata": {},
   "outputs": [
    {
     "name": "stdout",
     "output_type": "stream",
     "text": [
      "EXIF 标签: {'Image Make': (0x010F) ASCII=Apple @ 146, 'Image Model': (0x0110) ASCII=iPhone 14 @ 152, 'Image Orientation': (0x0112) Short=Rotated 90 CW @ 42, 'Image XResolution': (0x011A) Ratio=72 @ 162, 'Image YResolution': (0x011B) Ratio=72 @ 170, 'Image ResolutionUnit': (0x0128) Short=Pixels/Inch @ 78, 'Image Software': (0x0131) ASCII=17.6.1 @ 178, 'Image DateTime': (0x0132) ASCII=2024:11:02 15:48:43 @ 186, 'Image HostComputer': (0x013C) ASCII=iPhone 14 @ 206, 'Image ExifOffset': (0x8769) Long=216 @ 126, 'GPS GPSLatitudeRef': (0x0001) ASCII=N @ 2490, 'GPS GPSLatitude': (0x0002) Ratio=[22, 18, 19] @ 2666, 'GPS GPSLongitudeRef': (0x0003) ASCII=E @ 2514, 'GPS GPSLongitude': (0x0004) Ratio=[114, 10, 2257/50] @ 2690, 'GPS GPSAltitudeRef': (0x0005) Byte=0 @ 2538, 'GPS GPSAltitude': (0x0006) Ratio=103428/4457 @ 2714, 'GPS GPSTimeStamp': (0x0007) Ratio=[7, 48, 811/20] @ 2722, 'GPS GPSSpeedRef': (0x000C) ASCII=K @ 2574, 'GPS GPSSpeed': (0x000D) Ratio=0 @ 2746, 'GPS GPSImgDirectionRef': (0x0010) ASCII=T @ 2598, 'GPS GPSImgDirection': (0x0011) Ratio=194638/769 @ 2754, 'GPS GPSDestBearingRef': (0x0017) ASCII=T @ 2622, 'GPS GPSDestBearing': (0x0018) Ratio=194638/769 @ 2762, 'GPS GPSDate': (0x001D) ASCII=2024:11:02 @ 2770, 'GPS Tag 0x001F': (0x001F) Ratio=35 @ 2782, 'Image GPSInfo': (0x8825) Long=2480 @ 138, 'EXIF ExposureTime': (0x829A) Ratio=1/221 @ 618, 'EXIF FNumber': (0x829D) Ratio=3/2 @ 626, 'EXIF ExposureProgram': (0x8822) Short=Program Normal @ 250, 'EXIF ISOSpeedRatings': (0x8827) Short=40 @ 262, 'EXIF ExifVersion': (0x9000) Undefined=0232 @ 274, 'EXIF DateTimeOriginal': (0x9003) ASCII=2024:11:02 15:48:43 @ 634, 'EXIF DateTimeDigitized': (0x9004) ASCII=2024:11:02 15:48:43 @ 654, 'EXIF OffsetTime': (0x9010) ASCII=+08:00 @ 674, 'EXIF OffsetTimeOriginal': (0x9011) ASCII=+08:00 @ 682, 'EXIF OffsetTimeDigitized': (0x9012) ASCII=+08:00 @ 690, 'EXIF ShutterSpeedValue': (0x9201) Signed Ratio=38723/4971 @ 698, 'EXIF ApertureValue': (0x9202) Ratio=27767/23734 @ 706, 'EXIF BrightnessValue': (0x9203) Signed Ratio=16822/2783 @ 714, 'EXIF ExposureBiasValue': (0x9204) Signed Ratio=0 @ 722, 'EXIF MeteringMode': (0x9207) Short=Pattern @ 394, 'EXIF Flash': (0x9209) Short=Flash did not fire, compulsory flash mode @ 406, 'EXIF FocalLength': (0x920A) Ratio=57/10 @ 730, 'EXIF SubjectArea': (0x9214) Short=[2007, 1506, 2213, 1327] @ 738, 'EXIF MakerNote': (0x927C) Undefined=[65, 112, 112, 108, 101, 32, 105, 79, 83, 0, 0, 1, 77, 77, 0, 47, 0, 1, 0, 9, ... ] @ 746, 'EXIF SubSecTimeOriginal': (0x9291) ASCII=062 @ 454, 'EXIF SubSecTimeDigitized': (0x9292) ASCII=062 @ 466, 'EXIF ColorSpace': (0xA001) Short=Uncalibrated @ 478, 'EXIF ExifImageWidth': (0xA002) Long=4032 @ 490, 'EXIF ExifImageLength': (0xA003) Long=3024 @ 502, 'EXIF SensingMethod': (0xA217) Short=One-chip color area @ 514, 'EXIF SceneType': (0xA301) Undefined=Directly Photographed @ 526, 'EXIF ExposureMode': (0xA402) Short=Auto Exposure @ 538, 'EXIF WhiteBalance': (0xA403) Short=Auto @ 550, 'EXIF FocalLengthIn35mmFilm': (0xA405) Short=26 @ 562, 'EXIF LensSpecification': (0xA432) Ratio=[807365/524263, 57/10, 3/2, 12/5] @ 2398, 'EXIF LensMake': (0xA433) ASCII=Apple @ 2430, 'EXIF LensModel': (0xA434) ASCII=iPhone 14 back dual wide camera 5.7mm f/1.5 @ 2436, 'EXIF Tag 0xA460': (0xA460) Short=2 @ 610, 'MakerNote Tag 0x0001': (0x0001) Signed Long=14 @ 10, 'MakerNote Tag 0x0002': (0x0002) Undefined=[211, 0, 113, 0, 115, 1, 198, 0, 81, 1, 8, 1, 199, 0, 155, 0, 59, 0, 111, 0, ... ] @ 584, 'MakerNote Tag 0x0003': (0x0003) Undefined=[6, 7, 8, 85, 102, 108, 97, 103, 115, 85, 118, 97, 108, 117, 101, 89, 116, 105, 109, 101, ... ] @ 1096, 'MakerNote Tag 0x0004': (0x0004) Signed Long=0 @ 46, 'MakerNote Tag 0x0005': (0x0005) Signed Long=174 @ 58, 'MakerNote Tag 0x0006': (0x0006) Signed Long=187 @ 70, 'MakerNote Tag 0x0007': (0x0007) Signed Long=1 @ 82, 'MakerNote Tag 0x0008': (0x0008) Signed Ratio=[-1763573759/357367808, -31731/11, 128/211] @ 1200, 'MakerNote Tag 0x000C': (0x000C) Signed Ratio=[16791093/1161310261, 909258034/809649453] @ 1224, 'MakerNote Tag 0x000D': (0x000D) Signed Long=23 @ 118, 'MakerNote Tag 0x000E': (0x000E) Signed Long=0 @ 130, 'MakerNote Tag 0x0010': (0x0010) Signed Long=1 @ 142, 'MakerNote Tag 0x0011': (0x0011) ASCII=404C-B758-0ECBC8A4B7F0 @ 1240, 'MakerNote Tag 0x0014': (0x0014) Signed Long=12 @ 166, 'MakerNote Tag 0x0019': (0x0019) Signed Long=8194 @ 190, 'MakerNote Tag 0x001A': (0x001A) ASCII=-0793- @ 1285, 'MakerNote Tag 0x001F': (0x001F) Signed Long=0 @ 214, 'MakerNote Tag 0x0020': (0x0020) ASCII=4D3B-B851-A1287ECD2971 @ 1291, 'MakerNote Tag 0x0021': (0x0021) Signed Ratio=1966080/0 @ 1328, 'MakerNote Tag 0x0023': (0x0023) Signed Long=[277217284, -1558642688] @ 1336, 'MakerNote Tag 0x0026': (0x0026) Signed Long=3 @ 274, 'MakerNote Tag 0x0027': (0x0027) Signed Ratio=1128410418/1160787757 @ 1352, 'MakerNote Tag 0x002B': (0x002B) ASCII=4555-9309-DA8C1C1BDC7E @ 1360, 'MakerNote Tag 0x002D': (0x002D) Signed Long=5358 @ 310, 'MakerNote Tag 0x002E': (0x002E) Signed Long=1 @ 322, 'MakerNote Tag 0x002F': (0x002F) Signed Long=58 @ 334, 'MakerNote Tag 0x0030': (0x0030) Signed Ratio=808506369/33752069 @ 1397, 'MakerNote Tag 0x0036': (0x0036) Signed Long=3525 @ 358, 'MakerNote Tag 0x0037': (0x0037) Signed Long=4 @ 370, 'MakerNote Tag 0x003A': (0x003A) Signed Long=0 @ 382, 'MakerNote Tag 0x003B': (0x003B) Signed Long=0 @ 394, 'MakerNote Tag 0x003C': (0x003C) Signed Long=4 @ 406, 'MakerNote Tag 0x003F': (0x003F) Signed Long=0 @ 418, 'MakerNote Tag 0x0040': (0x0040) Undefined=[6, 6, 7, 81, 51, 81, 49, 81, 50, 81, 48, 16, 0, 34, 0, 0, 0, 0, 16, 1, ... ] @ 1405, 'MakerNote Tag 0x0041': (0x0041) Signed Long=0 @ 442, 'MakerNote Tag 0x0043': (0x0043) Signed Long=0 @ 454, 'MakerNote Tag 0x0044': (0x0044) Signed Long=0 @ 466, 'MakerNote Tag 0x0045': (0x0045) Signed Long=0 @ 478, 'MakerNote Tag 0x0046': (0x0046) Signed Long=0 @ 490, 'MakerNote Tag 0x004A': (0x004A) Signed Long=2 @ 502, 'MakerNote Tag 0x004D': (0x004D) Signed Ratio=808505857/33752145 @ 1479, 'MakerNote Tag 0x004E': (0x004E) Undefined=[49, 81, 50, 16, 1, 162, 5, 10, 210, 6, 7, 8, 9, 83, 50, 46, 49, 83, 50, 46, ... ] @ 1487, 'MakerNote Tag 0x004F': (0x004F) Undefined=[0, 0, 0, 1, 1, 0, 0, 0, 0, 0, 0, 0, 1, 0, 0, 0, 0, 0, 0, 0, 0, 0, 0, 0, 0, 0, 0, 0, 10, 0, 0, 12, 81, 197, 0, 7, 255, 231, 0, 0, 0, 57, 0] @ 1608, 'MakerNote Tag 0x0052': (0x0052) Signed Long=3 @ 550, 'MakerNote Tag 0x0053': (0x0053) Signed Long=1 @ 562}\n",
      "纬度列表: ['22', '18', '19']\n",
      "经度列表: ['114', '10', '2257/50']\n",
      "纬度: 22.30527777777778 经度: 114.17920555555555 时间: 2024:11:02 15:48:43\n"
     ]
    }
   ],
   "source": [
    "def get_coordinates(file_path):\n",
    "    '''\n",
    "    输入图片文件路径，输出经纬度\n",
    "    '''\n",
    "    import exifread  # 确保您已经安装了 exifread 库\n",
    "    try:\n",
    "        with open(file_path, 'rb') as f:\n",
    "            tags = exifread.process_file(f)\n",
    "            \n",
    "            # 打印所有 EXIF 标签以进行调试\n",
    "            print(\"EXIF 标签:\", tags)\n",
    "            \n",
    "            # 检查是否存在 GPS 标签\n",
    "            if 'GPS GPSLatitude' not in tags or 'GPS GPSLongitude' not in tags:\n",
    "                print(\"缺少 GPS 信息\")\n",
    "                return None, None, None\n",
    "            \n",
    "            Latitude_list = tags['GPS GPSLatitude'].printable[1:-1].replace(', ', ',').split(',')\n",
    "            Longitude_list = tags['GPS GPSLongitude'].printable[1:-1].replace(', ', ',').split(',')\n",
    "            Time = tags.get('EXIF DateTimeOriginal', '未知时间').printable\n",
    "            \n",
    "            # 检查纬度和经度列表的长度\n",
    "            print(\"纬度列表:\", Latitude_list)\n",
    "            print(\"经度列表:\", Longitude_list)\n",
    "            \n",
    "            if len(Latitude_list) < 3 or len(Longitude_list) < 3:\n",
    "                print(\"纬度或经度数据不完整\")\n",
    "                return None, None, None\n",
    "            \n",
    "            # 处理纬度\n",
    "            Latitude = convert_to_degrees(Latitude_list)\n",
    "            # 处理经度\n",
    "            Longitude = convert_to_degrees(Longitude_list)\n",
    "            \n",
    "            return Latitude, Longitude, Time\n",
    "    except FileNotFoundError:\n",
    "        print(f\"文件未找到: {file_path}\")\n",
    "    except KeyError as e:\n",
    "        print(f\"缺少 EXIF 标签: {e}\")\n",
    "    except Exception as e:\n",
    "        print(f\"发生错误: {e}\")\n",
    "\n",
    "def convert_to_degrees(value):\n",
    "    \"\"\"将分数形式的 GPS 数据转换为度数\"\"\"\n",
    "    # 处理度\n",
    "    d = float(value[0])  # 度\n",
    "\n",
    "    # 处理分\n",
    "    if len(value) > 1:\n",
    "        if '/' in value[1]:  # 检查分是否为分数形式\n",
    "            m = float(Fraction(value[1]))  # 使用 Fraction 计算分数\n",
    "        else:\n",
    "            m = float(value[1])  # 普通数值\n",
    "    else:\n",
    "        m = 0  # 如果没有分，设为 0\n",
    "\n",
    "    # 处理秒\n",
    "    if len(value) > 2:\n",
    "        if '/' in value[2]:  # 检查秒是否为分数形式\n",
    "            s = float(Fraction(value[2]))  # 使用 Fraction 计算分数\n",
    "        else:\n",
    "            s = float(value[2])  # 普通数值\n",
    "    else:\n",
    "        s = 0  # 如果没有秒，设为 0\n",
    "\n",
    "    return d + (m / 60.0) + (s / 3600.0)\n",
    "\n",
    "# 调用函数\n",
    "result = get_coordinates('2024-11-02_154929.jpg')\n",
    "if result:\n",
    "    Latitude, Longitude, Time = result\n",
    "    print('纬度:', Latitude, '经度:', Longitude, '时间:', Time)\n",
    "else:\n",
    "    print(\"未能获取坐标信息\")"
   ]
  },
  {
   "cell_type": "markdown",
   "metadata": {},
   "source": [
    "## 测试提取一张照片的拍摄地经纬度"
   ]
  },
  {
   "cell_type": "code",
   "execution_count": 3,
   "metadata": {},
   "outputs": [
    {
     "name": "stdout",
     "output_type": "stream",
     "text": [
      "EXIF 标签: {'Image Make': (0x010F) ASCII=Apple @ 146, 'Image Model': (0x0110) ASCII=iPhone 14 @ 152, 'Image Orientation': (0x0112) Short=Rotated 90 CW @ 42, 'Image XResolution': (0x011A) Ratio=72 @ 162, 'Image YResolution': (0x011B) Ratio=72 @ 170, 'Image ResolutionUnit': (0x0128) Short=Pixels/Inch @ 78, 'Image Software': (0x0131) ASCII=17.6.1 @ 178, 'Image DateTime': (0x0132) ASCII=2024:11:02 15:48:43 @ 186, 'Image HostComputer': (0x013C) ASCII=iPhone 14 @ 206, 'Image ExifOffset': (0x8769) Long=216 @ 126, 'GPS GPSLatitudeRef': (0x0001) ASCII=N @ 2490, 'GPS GPSLatitude': (0x0002) Ratio=[22, 18, 19] @ 2666, 'GPS GPSLongitudeRef': (0x0003) ASCII=E @ 2514, 'GPS GPSLongitude': (0x0004) Ratio=[114, 10, 2257/50] @ 2690, 'GPS GPSAltitudeRef': (0x0005) Byte=0 @ 2538, 'GPS GPSAltitude': (0x0006) Ratio=103428/4457 @ 2714, 'GPS GPSTimeStamp': (0x0007) Ratio=[7, 48, 811/20] @ 2722, 'GPS GPSSpeedRef': (0x000C) ASCII=K @ 2574, 'GPS GPSSpeed': (0x000D) Ratio=0 @ 2746, 'GPS GPSImgDirectionRef': (0x0010) ASCII=T @ 2598, 'GPS GPSImgDirection': (0x0011) Ratio=194638/769 @ 2754, 'GPS GPSDestBearingRef': (0x0017) ASCII=T @ 2622, 'GPS GPSDestBearing': (0x0018) Ratio=194638/769 @ 2762, 'GPS GPSDate': (0x001D) ASCII=2024:11:02 @ 2770, 'GPS Tag 0x001F': (0x001F) Ratio=35 @ 2782, 'Image GPSInfo': (0x8825) Long=2480 @ 138, 'EXIF ExposureTime': (0x829A) Ratio=1/221 @ 618, 'EXIF FNumber': (0x829D) Ratio=3/2 @ 626, 'EXIF ExposureProgram': (0x8822) Short=Program Normal @ 250, 'EXIF ISOSpeedRatings': (0x8827) Short=40 @ 262, 'EXIF ExifVersion': (0x9000) Undefined=0232 @ 274, 'EXIF DateTimeOriginal': (0x9003) ASCII=2024:11:02 15:48:43 @ 634, 'EXIF DateTimeDigitized': (0x9004) ASCII=2024:11:02 15:48:43 @ 654, 'EXIF OffsetTime': (0x9010) ASCII=+08:00 @ 674, 'EXIF OffsetTimeOriginal': (0x9011) ASCII=+08:00 @ 682, 'EXIF OffsetTimeDigitized': (0x9012) ASCII=+08:00 @ 690, 'EXIF ShutterSpeedValue': (0x9201) Signed Ratio=38723/4971 @ 698, 'EXIF ApertureValue': (0x9202) Ratio=27767/23734 @ 706, 'EXIF BrightnessValue': (0x9203) Signed Ratio=16822/2783 @ 714, 'EXIF ExposureBiasValue': (0x9204) Signed Ratio=0 @ 722, 'EXIF MeteringMode': (0x9207) Short=Pattern @ 394, 'EXIF Flash': (0x9209) Short=Flash did not fire, compulsory flash mode @ 406, 'EXIF FocalLength': (0x920A) Ratio=57/10 @ 730, 'EXIF SubjectArea': (0x9214) Short=[2007, 1506, 2213, 1327] @ 738, 'EXIF MakerNote': (0x927C) Undefined=[65, 112, 112, 108, 101, 32, 105, 79, 83, 0, 0, 1, 77, 77, 0, 47, 0, 1, 0, 9, ... ] @ 746, 'EXIF SubSecTimeOriginal': (0x9291) ASCII=062 @ 454, 'EXIF SubSecTimeDigitized': (0x9292) ASCII=062 @ 466, 'EXIF ColorSpace': (0xA001) Short=Uncalibrated @ 478, 'EXIF ExifImageWidth': (0xA002) Long=4032 @ 490, 'EXIF ExifImageLength': (0xA003) Long=3024 @ 502, 'EXIF SensingMethod': (0xA217) Short=One-chip color area @ 514, 'EXIF SceneType': (0xA301) Undefined=Directly Photographed @ 526, 'EXIF ExposureMode': (0xA402) Short=Auto Exposure @ 538, 'EXIF WhiteBalance': (0xA403) Short=Auto @ 550, 'EXIF FocalLengthIn35mmFilm': (0xA405) Short=26 @ 562, 'EXIF LensSpecification': (0xA432) Ratio=[807365/524263, 57/10, 3/2, 12/5] @ 2398, 'EXIF LensMake': (0xA433) ASCII=Apple @ 2430, 'EXIF LensModel': (0xA434) ASCII=iPhone 14 back dual wide camera 5.7mm f/1.5 @ 2436, 'EXIF Tag 0xA460': (0xA460) Short=2 @ 610, 'MakerNote Tag 0x0001': (0x0001) Signed Long=14 @ 10, 'MakerNote Tag 0x0002': (0x0002) Undefined=[211, 0, 113, 0, 115, 1, 198, 0, 81, 1, 8, 1, 199, 0, 155, 0, 59, 0, 111, 0, ... ] @ 584, 'MakerNote Tag 0x0003': (0x0003) Undefined=[6, 7, 8, 85, 102, 108, 97, 103, 115, 85, 118, 97, 108, 117, 101, 89, 116, 105, 109, 101, ... ] @ 1096, 'MakerNote Tag 0x0004': (0x0004) Signed Long=0 @ 46, 'MakerNote Tag 0x0005': (0x0005) Signed Long=174 @ 58, 'MakerNote Tag 0x0006': (0x0006) Signed Long=187 @ 70, 'MakerNote Tag 0x0007': (0x0007) Signed Long=1 @ 82, 'MakerNote Tag 0x0008': (0x0008) Signed Ratio=[-1763573759/357367808, -31731/11, 128/211] @ 1200, 'MakerNote Tag 0x000C': (0x000C) Signed Ratio=[16791093/1161310261, 909258034/809649453] @ 1224, 'MakerNote Tag 0x000D': (0x000D) Signed Long=23 @ 118, 'MakerNote Tag 0x000E': (0x000E) Signed Long=0 @ 130, 'MakerNote Tag 0x0010': (0x0010) Signed Long=1 @ 142, 'MakerNote Tag 0x0011': (0x0011) ASCII=404C-B758-0ECBC8A4B7F0 @ 1240, 'MakerNote Tag 0x0014': (0x0014) Signed Long=12 @ 166, 'MakerNote Tag 0x0019': (0x0019) Signed Long=8194 @ 190, 'MakerNote Tag 0x001A': (0x001A) ASCII=-0793- @ 1285, 'MakerNote Tag 0x001F': (0x001F) Signed Long=0 @ 214, 'MakerNote Tag 0x0020': (0x0020) ASCII=4D3B-B851-A1287ECD2971 @ 1291, 'MakerNote Tag 0x0021': (0x0021) Signed Ratio=1966080/0 @ 1328, 'MakerNote Tag 0x0023': (0x0023) Signed Long=[277217284, -1558642688] @ 1336, 'MakerNote Tag 0x0026': (0x0026) Signed Long=3 @ 274, 'MakerNote Tag 0x0027': (0x0027) Signed Ratio=1128410418/1160787757 @ 1352, 'MakerNote Tag 0x002B': (0x002B) ASCII=4555-9309-DA8C1C1BDC7E @ 1360, 'MakerNote Tag 0x002D': (0x002D) Signed Long=5358 @ 310, 'MakerNote Tag 0x002E': (0x002E) Signed Long=1 @ 322, 'MakerNote Tag 0x002F': (0x002F) Signed Long=58 @ 334, 'MakerNote Tag 0x0030': (0x0030) Signed Ratio=808506369/33752069 @ 1397, 'MakerNote Tag 0x0036': (0x0036) Signed Long=3525 @ 358, 'MakerNote Tag 0x0037': (0x0037) Signed Long=4 @ 370, 'MakerNote Tag 0x003A': (0x003A) Signed Long=0 @ 382, 'MakerNote Tag 0x003B': (0x003B) Signed Long=0 @ 394, 'MakerNote Tag 0x003C': (0x003C) Signed Long=4 @ 406, 'MakerNote Tag 0x003F': (0x003F) Signed Long=0 @ 418, 'MakerNote Tag 0x0040': (0x0040) Undefined=[6, 6, 7, 81, 51, 81, 49, 81, 50, 81, 48, 16, 0, 34, 0, 0, 0, 0, 16, 1, ... ] @ 1405, 'MakerNote Tag 0x0041': (0x0041) Signed Long=0 @ 442, 'MakerNote Tag 0x0043': (0x0043) Signed Long=0 @ 454, 'MakerNote Tag 0x0044': (0x0044) Signed Long=0 @ 466, 'MakerNote Tag 0x0045': (0x0045) Signed Long=0 @ 478, 'MakerNote Tag 0x0046': (0x0046) Signed Long=0 @ 490, 'MakerNote Tag 0x004A': (0x004A) Signed Long=2 @ 502, 'MakerNote Tag 0x004D': (0x004D) Signed Ratio=808505857/33752145 @ 1479, 'MakerNote Tag 0x004E': (0x004E) Undefined=[49, 81, 50, 16, 1, 162, 5, 10, 210, 6, 7, 8, 9, 83, 50, 46, 49, 83, 50, 46, ... ] @ 1487, 'MakerNote Tag 0x004F': (0x004F) Undefined=[0, 0, 0, 1, 1, 0, 0, 0, 0, 0, 0, 0, 1, 0, 0, 0, 0, 0, 0, 0, 0, 0, 0, 0, 0, 0, 0, 0, 10, 0, 0, 12, 81, 197, 0, 7, 255, 231, 0, 0, 0, 57, 0] @ 1608, 'MakerNote Tag 0x0052': (0x0052) Signed Long=3 @ 550, 'MakerNote Tag 0x0053': (0x0053) Signed Long=1 @ 562}\n",
      "纬度列表: ['22', '18', '19']\n",
      "经度列表: ['114', '10', '2257/50']\n",
      "纬度: 22.30527777777778 经度: 114.17920555555555 时间: 2024:11:02 15:48:43\n"
     ]
    }
   ],
   "source": [
    "# 调用函数\n",
    "result = get_coordinates('2024-11-02_154929.jpg')\n",
    "if result:\n",
    "    Latitude, Longitude, Time = result\n",
    "    print('纬度:', Latitude, '经度:', Longitude, '时间:', Time)\n",
    "else:\n",
    "    print(\"未能获取坐标信息\")"
   ]
  },
  {
   "cell_type": "code",
   "execution_count": 4,
   "metadata": {},
   "outputs": [
    {
     "name": "stdout",
     "output_type": "stream",
     "text": [
      "EXIF 标签: {'Image Make': (0x010F) ASCII=Apple @ 146, 'Image Model': (0x0110) ASCII=iPhone 14 @ 152, 'Image Orientation': (0x0112) Short=Rotated 90 CW @ 42, 'Image XResolution': (0x011A) Ratio=72 @ 162, 'Image YResolution': (0x011B) Ratio=72 @ 170, 'Image ResolutionUnit': (0x0128) Short=Pixels/Inch @ 78, 'Image Software': (0x0131) ASCII=17.6.1 @ 178, 'Image DateTime': (0x0132) ASCII=2024:11:02 15:48:43 @ 186, 'Image HostComputer': (0x013C) ASCII=iPhone 14 @ 206, 'Image ExifOffset': (0x8769) Long=216 @ 126, 'GPS GPSLatitudeRef': (0x0001) ASCII=N @ 2490, 'GPS GPSLatitude': (0x0002) Ratio=[22, 18, 19] @ 2666, 'GPS GPSLongitudeRef': (0x0003) ASCII=E @ 2514, 'GPS GPSLongitude': (0x0004) Ratio=[114, 10, 2257/50] @ 2690, 'GPS GPSAltitudeRef': (0x0005) Byte=0 @ 2538, 'GPS GPSAltitude': (0x0006) Ratio=103428/4457 @ 2714, 'GPS GPSTimeStamp': (0x0007) Ratio=[7, 48, 811/20] @ 2722, 'GPS GPSSpeedRef': (0x000C) ASCII=K @ 2574, 'GPS GPSSpeed': (0x000D) Ratio=0 @ 2746, 'GPS GPSImgDirectionRef': (0x0010) ASCII=T @ 2598, 'GPS GPSImgDirection': (0x0011) Ratio=194638/769 @ 2754, 'GPS GPSDestBearingRef': (0x0017) ASCII=T @ 2622, 'GPS GPSDestBearing': (0x0018) Ratio=194638/769 @ 2762, 'GPS GPSDate': (0x001D) ASCII=2024:11:02 @ 2770, 'GPS Tag 0x001F': (0x001F) Ratio=35 @ 2782, 'Image GPSInfo': (0x8825) Long=2480 @ 138, 'EXIF ExposureTime': (0x829A) Ratio=1/221 @ 618, 'EXIF FNumber': (0x829D) Ratio=3/2 @ 626, 'EXIF ExposureProgram': (0x8822) Short=Program Normal @ 250, 'EXIF ISOSpeedRatings': (0x8827) Short=40 @ 262, 'EXIF ExifVersion': (0x9000) Undefined=0232 @ 274, 'EXIF DateTimeOriginal': (0x9003) ASCII=2024:11:02 15:48:43 @ 634, 'EXIF DateTimeDigitized': (0x9004) ASCII=2024:11:02 15:48:43 @ 654, 'EXIF OffsetTime': (0x9010) ASCII=+08:00 @ 674, 'EXIF OffsetTimeOriginal': (0x9011) ASCII=+08:00 @ 682, 'EXIF OffsetTimeDigitized': (0x9012) ASCII=+08:00 @ 690, 'EXIF ShutterSpeedValue': (0x9201) Signed Ratio=38723/4971 @ 698, 'EXIF ApertureValue': (0x9202) Ratio=27767/23734 @ 706, 'EXIF BrightnessValue': (0x9203) Signed Ratio=16822/2783 @ 714, 'EXIF ExposureBiasValue': (0x9204) Signed Ratio=0 @ 722, 'EXIF MeteringMode': (0x9207) Short=Pattern @ 394, 'EXIF Flash': (0x9209) Short=Flash did not fire, compulsory flash mode @ 406, 'EXIF FocalLength': (0x920A) Ratio=57/10 @ 730, 'EXIF SubjectArea': (0x9214) Short=[2007, 1506, 2213, 1327] @ 738, 'EXIF MakerNote': (0x927C) Undefined=[65, 112, 112, 108, 101, 32, 105, 79, 83, 0, 0, 1, 77, 77, 0, 47, 0, 1, 0, 9, ... ] @ 746, 'EXIF SubSecTimeOriginal': (0x9291) ASCII=062 @ 454, 'EXIF SubSecTimeDigitized': (0x9292) ASCII=062 @ 466, 'EXIF ColorSpace': (0xA001) Short=Uncalibrated @ 478, 'EXIF ExifImageWidth': (0xA002) Long=4032 @ 490, 'EXIF ExifImageLength': (0xA003) Long=3024 @ 502, 'EXIF SensingMethod': (0xA217) Short=One-chip color area @ 514, 'EXIF SceneType': (0xA301) Undefined=Directly Photographed @ 526, 'EXIF ExposureMode': (0xA402) Short=Auto Exposure @ 538, 'EXIF WhiteBalance': (0xA403) Short=Auto @ 550, 'EXIF FocalLengthIn35mmFilm': (0xA405) Short=26 @ 562, 'EXIF LensSpecification': (0xA432) Ratio=[807365/524263, 57/10, 3/2, 12/5] @ 2398, 'EXIF LensMake': (0xA433) ASCII=Apple @ 2430, 'EXIF LensModel': (0xA434) ASCII=iPhone 14 back dual wide camera 5.7mm f/1.5 @ 2436, 'EXIF Tag 0xA460': (0xA460) Short=2 @ 610, 'MakerNote Tag 0x0001': (0x0001) Signed Long=14 @ 10, 'MakerNote Tag 0x0002': (0x0002) Undefined=[211, 0, 113, 0, 115, 1, 198, 0, 81, 1, 8, 1, 199, 0, 155, 0, 59, 0, 111, 0, ... ] @ 584, 'MakerNote Tag 0x0003': (0x0003) Undefined=[6, 7, 8, 85, 102, 108, 97, 103, 115, 85, 118, 97, 108, 117, 101, 89, 116, 105, 109, 101, ... ] @ 1096, 'MakerNote Tag 0x0004': (0x0004) Signed Long=0 @ 46, 'MakerNote Tag 0x0005': (0x0005) Signed Long=174 @ 58, 'MakerNote Tag 0x0006': (0x0006) Signed Long=187 @ 70, 'MakerNote Tag 0x0007': (0x0007) Signed Long=1 @ 82, 'MakerNote Tag 0x0008': (0x0008) Signed Ratio=[-1763573759/357367808, -31731/11, 128/211] @ 1200, 'MakerNote Tag 0x000C': (0x000C) Signed Ratio=[16791093/1161310261, 909258034/809649453] @ 1224, 'MakerNote Tag 0x000D': (0x000D) Signed Long=23 @ 118, 'MakerNote Tag 0x000E': (0x000E) Signed Long=0 @ 130, 'MakerNote Tag 0x0010': (0x0010) Signed Long=1 @ 142, 'MakerNote Tag 0x0011': (0x0011) ASCII=404C-B758-0ECBC8A4B7F0 @ 1240, 'MakerNote Tag 0x0014': (0x0014) Signed Long=12 @ 166, 'MakerNote Tag 0x0019': (0x0019) Signed Long=8194 @ 190, 'MakerNote Tag 0x001A': (0x001A) ASCII=-0793- @ 1285, 'MakerNote Tag 0x001F': (0x001F) Signed Long=0 @ 214, 'MakerNote Tag 0x0020': (0x0020) ASCII=4D3B-B851-A1287ECD2971 @ 1291, 'MakerNote Tag 0x0021': (0x0021) Signed Ratio=1966080/0 @ 1328, 'MakerNote Tag 0x0023': (0x0023) Signed Long=[277217284, -1558642688] @ 1336, 'MakerNote Tag 0x0026': (0x0026) Signed Long=3 @ 274, 'MakerNote Tag 0x0027': (0x0027) Signed Ratio=1128410418/1160787757 @ 1352, 'MakerNote Tag 0x002B': (0x002B) ASCII=4555-9309-DA8C1C1BDC7E @ 1360, 'MakerNote Tag 0x002D': (0x002D) Signed Long=5358 @ 310, 'MakerNote Tag 0x002E': (0x002E) Signed Long=1 @ 322, 'MakerNote Tag 0x002F': (0x002F) Signed Long=58 @ 334, 'MakerNote Tag 0x0030': (0x0030) Signed Ratio=808506369/33752069 @ 1397, 'MakerNote Tag 0x0036': (0x0036) Signed Long=3525 @ 358, 'MakerNote Tag 0x0037': (0x0037) Signed Long=4 @ 370, 'MakerNote Tag 0x003A': (0x003A) Signed Long=0 @ 382, 'MakerNote Tag 0x003B': (0x003B) Signed Long=0 @ 394, 'MakerNote Tag 0x003C': (0x003C) Signed Long=4 @ 406, 'MakerNote Tag 0x003F': (0x003F) Signed Long=0 @ 418, 'MakerNote Tag 0x0040': (0x0040) Undefined=[6, 6, 7, 81, 51, 81, 49, 81, 50, 81, 48, 16, 0, 34, 0, 0, 0, 0, 16, 1, ... ] @ 1405, 'MakerNote Tag 0x0041': (0x0041) Signed Long=0 @ 442, 'MakerNote Tag 0x0043': (0x0043) Signed Long=0 @ 454, 'MakerNote Tag 0x0044': (0x0044) Signed Long=0 @ 466, 'MakerNote Tag 0x0045': (0x0045) Signed Long=0 @ 478, 'MakerNote Tag 0x0046': (0x0046) Signed Long=0 @ 490, 'MakerNote Tag 0x004A': (0x004A) Signed Long=2 @ 502, 'MakerNote Tag 0x004D': (0x004D) Signed Ratio=808505857/33752145 @ 1479, 'MakerNote Tag 0x004E': (0x004E) Undefined=[49, 81, 50, 16, 1, 162, 5, 10, 210, 6, 7, 8, 9, 83, 50, 46, 49, 83, 50, 46, ... ] @ 1487, 'MakerNote Tag 0x004F': (0x004F) Undefined=[0, 0, 0, 1, 1, 0, 0, 0, 0, 0, 0, 0, 1, 0, 0, 0, 0, 0, 0, 0, 0, 0, 0, 0, 0, 0, 0, 0, 10, 0, 0, 12, 81, 197, 0, 7, 255, 231, 0, 0, 0, 57, 0] @ 1608, 'MakerNote Tag 0x0052': (0x0052) Signed Long=3 @ 550, 'MakerNote Tag 0x0053': (0x0053) Signed Long=1 @ 562}\n",
      "纬度列表: ['22', '18', '19']\n",
      "经度列表: ['114', '10', '2257/50']\n",
      "纬度 22.30527777777778 经度 114.17920555555555 时间 2024:11:02 15:48:43\n"
     ]
    }
   ],
   "source": [
    "Latitude, Longitude, Time = get_coordinates('2024-11-02_154929.jpg')\n",
    "print('纬度',Latitude,'经度', Longitude,'时间', Time)"
   ]
  },
  {
   "cell_type": "markdown",
   "metadata": {},
   "source": [
    "## 遍历每张照片，获取所有照片经纬度信息"
   ]
  },
  {
   "cell_type": "code",
   "execution_count": 5,
   "metadata": {},
   "outputs": [
    {
     "name": "stdout",
     "output_type": "stream",
     "text": [
      "['.ipynb_checkpoints', '1.getLatitudeLongtitudeFromPhotos.ipynb', '2.DrawMap.ipynb', '2024-11-02_154929.jpg', 'EXIF信息介绍-张子豪.pdf', 'FileName&Infomation.csv', 'images', '拍照地点分布地图.html', '照片文件名及经纬度.csv']\n"
     ]
    }
   ],
   "source": [
    "print(os.listdir('.'))"
   ]
  },
  {
   "cell_type": "code",
   "execution_count": 6,
   "metadata": {},
   "outputs": [],
   "source": [
    "# 进入images目录\n",
    "os.chdir('images/')"
   ]
  },
  {
   "cell_type": "code",
   "execution_count": 7,
   "metadata": {},
   "outputs": [
    {
     "name": "stdout",
     "output_type": "stream",
     "text": [
      "EXIF 标签: {'Image Make': (0x010F) ASCII=Apple @ 146, 'Image Model': (0x0110) ASCII=iPhone 13 Pro @ 152, 'Image Orientation': (0x0112) Short=Horizontal (normal) @ 42, 'Image XResolution': (0x011A) Ratio=72 @ 166, 'Image YResolution': (0x011B) Ratio=72 @ 174, 'Image ResolutionUnit': (0x0128) Short=Pixels/Inch @ 78, 'Image Software': (0x0131) ASCII=18.0.1 @ 182, 'Image DateTime': (0x0132) ASCII=2024:11:05 14:18:03 @ 190, 'Image HostComputer': (0x013C) ASCII=iPhone 13 Pro @ 210, 'Image ExifOffset': (0x8769) Long=224 @ 126, 'GPS GPSLatitudeRef': (0x0001) ASCII=N @ 2664, 'GPS GPSLatitude': (0x0002) Ratio=[22, 18, 1967/100] @ 2840, 'GPS GPSLongitudeRef': (0x0003) ASCII=E @ 2688, 'GPS GPSLongitude': (0x0004) Ratio=[114, 10, 4819/100] @ 2864, 'GPS GPSAltitudeRef': (0x0005) Byte=0 @ 2712, 'GPS GPSAltitude': (0x0006) Ratio=57373/4096 @ 2888, 'GPS GPSTimeStamp': (0x0007) Ratio=[6, 18, 2] @ 2896, 'GPS GPSSpeedRef': (0x000C) ASCII=K @ 2748, 'GPS GPSSpeed': (0x000D) Ratio=19/20 @ 2920, 'GPS GPSImgDirectionRef': (0x0010) ASCII=T @ 2772, 'GPS GPSImgDirection': (0x0011) Ratio=139804/509 @ 2928, 'GPS GPSDestBearingRef': (0x0017) ASCII=T @ 2796, 'GPS GPSDestBearing': (0x0018) Ratio=139804/509 @ 2936, 'GPS GPSDate': (0x001D) ASCII=2024:11:05 @ 2944, 'GPS Tag 0x001F': (0x001F) Ratio=146795/6383 @ 2956, 'Image GPSInfo': (0x8825) Long=2654 @ 138, 'EXIF ExposureTime': (0x829A) Ratio=1/4831 @ 638, 'EXIF FNumber': (0x829D) Ratio=3/2 @ 646, 'EXIF ExposureProgram': (0x8822) Short=Program Normal @ 258, 'EXIF ISOSpeedRatings': (0x8827) Short=50 @ 270, 'EXIF ExifVersion': (0x9000) Undefined=0232 @ 282, 'EXIF DateTimeOriginal': (0x9003) ASCII=2024:11:05 14:18:03 @ 654, 'EXIF DateTimeDigitized': (0x9004) ASCII=2024:11:05 14:18:03 @ 674, 'EXIF OffsetTime': (0x9010) ASCII=+08:00 @ 694, 'EXIF OffsetTimeOriginal': (0x9011) ASCII=+08:00 @ 702, 'EXIF OffsetTimeDigitized': (0x9012) ASCII=+08:00 @ 710, 'EXIF ShutterSpeedValue': (0x9201) Signed Ratio=85483/6985 @ 718, 'EXIF ApertureValue': (0x9202) Ratio=27767/23734 @ 726, 'EXIF BrightnessValue': (0x9203) Signed Ratio=88583/8136 @ 734, 'EXIF ExposureBiasValue': (0x9204) Signed Ratio=12327/16550 @ 742, 'EXIF MeteringMode': (0x9207) Short=Spot @ 402, 'EXIF Flash': (0x9209) Short=Flash did not fire, compulsory flash mode @ 414, 'EXIF FocalLength': (0x920A) Ratio=57/10 @ 750, 'EXIF SubjectArea': (0x9214) Short=[947, 1652, 747, 753] @ 758, 'EXIF MakerNote': (0x927C) Undefined=[65, 112, 112, 108, 101, 32, 105, 79, 83, 0, 0, 1, 77, 77, 0, 59, 0, 1, 0, 9, ... ] @ 766, 'EXIF SubSecTimeOriginal': (0x9291) ASCII=466 @ 462, 'EXIF SubSecTimeDigitized': (0x9292) ASCII=466 @ 474, 'EXIF ColorSpace': (0xA001) Short=Uncalibrated @ 486, 'EXIF ExifImageWidth': (0xA002) Long=4032 @ 498, 'EXIF ExifImageLength': (0xA003) Long=3024 @ 510, 'EXIF SensingMethod': (0xA217) Short=One-chip color area @ 522, 'EXIF SceneType': (0xA301) Undefined=Directly Photographed @ 534, 'EXIF ExposureMode': (0xA402) Short=Auto Exposure @ 546, 'EXIF WhiteBalance': (0xA403) Short=Auto @ 558, 'EXIF DigitalZoomRatio': (0xA404) Ratio=36/25 @ 2562, 'EXIF FocalLengthIn35mmFilm': (0xA405) Short=37 @ 582, 'EXIF LensSpecification': (0xA432) Ratio=[299253/190607, 9, 3/2, 14/5] @ 2570, 'EXIF LensMake': (0xA433) ASCII=Apple @ 2602, 'EXIF LensModel': (0xA434) ASCII=iPhone 13 Pro back triple camera 5.7mm f/1.5 @ 2608, 'EXIF Tag 0xA460': (0xA460) Short=2 @ 630, 'MakerNote Tag 0x0001': (0x0001) Signed Long=15 @ 10, 'MakerNote Tag 0x0002': (0x0002) Undefined=[15, 3, 237, 2, 199, 0, 169, 0, 134, 0, 123, 0, 127, 0, 123, 0, 244, 0, 252, 3, ... ] @ 728, 'MakerNote Tag 0x0003': (0x0003) Undefined=[6, 7, 8, 85, 102, 108, 97, 103, 115, 85, 118, 97, 108, 117, 101, 89, 116, 105, 109, 101, ... ] @ 1240, 'MakerNote Tag 0x0004': (0x0004) Signed Long=1 @ 46, 'MakerNote Tag 0x0005': (0x0005) Signed Long=205 @ 58, 'MakerNote Tag 0x0006': (0x0006) Signed Long=291 @ 70, 'MakerNote Tag 0x0007': (0x0007) Signed Long=1 @ 82, 'MakerNote Tag 0x0008': (0x0008) Signed Ratio=[1016266753/1592328194, 29954/111, 256] @ 1344, 'MakerNote Tag 0x000C': (0x000C) Signed Ratio=[1061688/1162098487, 1111633222/944128301] @ 1368, 'MakerNote Tag 0x000D': (0x000D) Signed Long=36 @ 118, 'MakerNote Tag 0x000E': (0x000E) Signed Long=0 @ 130, 'MakerNote Tag 0x0010': (0x0010) Signed Long=1 @ 142, 'MakerNote Tag 0x0011': (0x0011) ASCII=4070-8E1E-AE4C1C1B4C03 @ 1384, 'MakerNote Tag 0x0014': (0x0014) Signed Long=10 @ 166, 'MakerNote Tag 0x0019': (0x0019) Signed Long=2 @ 190, 'MakerNote Tag 0x001A': (0x001A) ASCII=-CC6C- @ 1429, 'MakerNote Tag 0x001F': (0x001F) Signed Long=0 @ 214, 'MakerNote Tag 0x0020': (0x0020) ASCII=47D7-8387-7EDB81D0C645 @ 1435, 'MakerNote Tag 0x0021': (0x0021) Signed Ratio=933888 @ 1472, 'MakerNote Tag 0x0023': (0x0023) Signed Long=[12976131, -1472528384] @ 1480, 'MakerNote Tag 0x0026': (0x0026) Signed Long=3 @ 274, 'MakerNote Tag 0x0027': (0x0027) Signed Ratio=943926584/825504813 @ 1496, 'MakerNote Tag 0x0028': (0x0028) Signed Long=1 @ 298, 'MakerNote Tag 0x002B': (0x002B) ASCII=4A10-A180-6476F785D19B @ 1504, 'MakerNote Tag 0x002D': (0x002D) Signed Long=5354 @ 322, 'MakerNote Tag 0x002E': (0x002E) Signed Long=1 @ 334, 'MakerNote Tag 0x002F': (0x002F) Signed Long=71 @ 346, 'MakerNote Tag 0x0030': (0x0030) Signed Ratio=808506369/33752069 @ 1541, 'MakerNote Tag 0x0033': (0x0033) Signed Long=4096 @ 370, 'MakerNote Tag 0x0034': (0x0034) Signed Long=4 @ 382, 'MakerNote Tag 0x0035': (0x0035) Signed Long=3 @ 394, 'MakerNote Tag 0x0036': (0x0036) Signed Long=65535 @ 406, 'MakerNote Tag 0x0037': (0x0037) Signed Long=4 @ 418, 'MakerNote Tag 0x0038': (0x0038) Signed Long=573 @ 430, 'MakerNote Tag 0x0039': (0x0039) Signed Long=2 @ 442, 'MakerNote Tag 0x003A': (0x003A) Signed Long=0 @ 454, 'MakerNote Tag 0x003B': (0x003B) Signed Long=1 @ 466, 'MakerNote Tag 0x003C': (0x003C) Signed Long=4 @ 478, 'MakerNote Tag 0x003D': (0x003D) Signed Long=0 @ 490, 'MakerNote Tag 0x003F': (0x003F) Signed Long=59 @ 502, 'MakerNote Tag 0x0040': (0x0040) Undefined=[6, 6, 7, 81, 51, 81, 49, 81, 50, 81, 48, 16, 0, 34, 0, 0, 0, 0, 16, 1, ... ] @ 1549, 'MakerNote Tag 0x0041': (0x0041) Signed Long=0 @ 526, 'MakerNote Tag 0x0042': (0x0042) Signed Long=0 @ 538, 'MakerNote Tag 0x0043': (0x0043) Signed Long=0 @ 550, 'MakerNote Tag 0x0044': (0x0044) Signed Long=0 @ 562, 'MakerNote Tag 0x0045': (0x0045) Signed Long=0 @ 574, 'MakerNote Tag 0x0046': (0x0046) Signed Long=0 @ 586, 'MakerNote Tag 0x0048': (0x0048) Signed Long=573 @ 598, 'MakerNote Tag 0x0049': (0x0049) Signed Long=0 @ 610, 'MakerNote Tag 0x004A': (0x004A) Signed Long=2 @ 622, 'MakerNote Tag 0x004D': (0x004D) Signed Ratio=808505857/33752145 @ 1623, 'MakerNote Tag 0x004E': (0x004E) Undefined=[49, 81, 50, 16, 3, 162, 5, 10, 210, 6, 7, 8, 9, 83, 50, 46, 49, 83, 50, 46, ... ] @ 1631, 'MakerNote Tag 0x004F': (0x004F) Undefined=[0, 0, 0, 1, 1, 0, 0, 0, 0, 0, 0, 0, 1, 0, 0, 0, 0, 0, 0, 0, 0, 0, 0, 0, 0, 0, 0, 0, 10, 0, 0, 0, 0, 36, 0, 0, 0, 25, 0, 4, 144, 245, 0] @ 1752, 'MakerNote Tag 0x0052': (0x0052) Signed Long=1 @ 670, 'MakerNote Tag 0x0053': (0x0053) Signed Long=1 @ 682, 'MakerNote Tag 0x0055': (0x0055) Signed Long=0 @ 694, 'MakerNote Tag 0x0058': (0x0058) Signed Long=1795 @ 706}\n",
      "纬度列表: ['22', '18', '1967/100']\n",
      "经度列表: ['114', '10', '4819/100']\n"
     ]
    }
   ],
   "source": [
    "df_list = []  # 创建一个列表来存储每个文件的信息\n",
    "for each in os.listdir():  # 遍历每个文件\n",
    "    if each == '.ipynb_checkpoints':  # 忽略'.ipynb_checkpoints'文件夹\n",
    "        continue\n",
    "    try:\n",
    "        coord = get_coordinates(each)\n",
    "        # 将每个文件的信息作为字典添加到列表中\n",
    "        df_list.append({'FileName': each, 'Latitude': coord[0], 'Longitude': coord[1], 'Time': coord[2]})\n",
    "    except Exception as e:\n",
    "        print('文件{}无法解析: {}'.format(each, e))\n",
    "\n",
    "# 最后将列表转换为 DataFrame\n",
    "df = pd.DataFrame(df_list)"
   ]
  },
  {
   "cell_type": "code",
   "execution_count": 8,
   "metadata": {},
   "outputs": [
    {
     "name": "stdout",
     "output_type": "stream",
     "text": [
      "['.ipynb_checkpoints', 'IMG_1560.jpg']\n"
     ]
    }
   ],
   "source": [
    "print(os.listdir('.'))"
   ]
  },
  {
   "cell_type": "code",
   "execution_count": 9,
   "metadata": {},
   "outputs": [
    {
     "data": {
      "text/html": [
       "<div>\n",
       "<style scoped>\n",
       "    .dataframe tbody tr th:only-of-type {\n",
       "        vertical-align: middle;\n",
       "    }\n",
       "\n",
       "    .dataframe tbody tr th {\n",
       "        vertical-align: top;\n",
       "    }\n",
       "\n",
       "    .dataframe thead th {\n",
       "        text-align: right;\n",
       "    }\n",
       "</style>\n",
       "<table border=\"1\" class=\"dataframe\">\n",
       "  <thead>\n",
       "    <tr style=\"text-align: right;\">\n",
       "      <th></th>\n",
       "      <th>FileName</th>\n",
       "      <th>Latitude</th>\n",
       "      <th>Longitude</th>\n",
       "      <th>Time</th>\n",
       "    </tr>\n",
       "  </thead>\n",
       "  <tbody>\n",
       "    <tr>\n",
       "      <th>0</th>\n",
       "      <td>IMG_1560.jpg</td>\n",
       "      <td>22.305464</td>\n",
       "      <td>114.180053</td>\n",
       "      <td>2024:11:05 14:18:03</td>\n",
       "    </tr>\n",
       "  </tbody>\n",
       "</table>\n",
       "</div>"
      ],
      "text/plain": [
       "       FileName   Latitude   Longitude                 Time\n",
       "0  IMG_1560.jpg  22.305464  114.180053  2024:11:05 14:18:03"
      ]
     },
     "execution_count": 9,
     "metadata": {},
     "output_type": "execute_result"
    }
   ],
   "source": [
    "df"
   ]
  },
  {
   "cell_type": "code",
   "execution_count": 10,
   "metadata": {},
   "outputs": [],
   "source": [
    "# 返回上一级目录\n",
    "os.chdir('../')"
   ]
  },
  {
   "cell_type": "markdown",
   "metadata": {},
   "source": [
    "## 保存照片文件名及经纬度表格"
   ]
  },
  {
   "cell_type": "code",
   "execution_count": 11,
   "metadata": {},
   "outputs": [],
   "source": [
    "df.to_csv('FileName&Infomation.csv', index=False, encoding='utf-8')"
   ]
  },
  {
   "cell_type": "code",
   "execution_count": null,
   "metadata": {},
   "outputs": [],
   "source": []
  },
  {
   "cell_type": "code",
   "execution_count": null,
   "metadata": {},
   "outputs": [],
   "source": []
  }
 ],
 "metadata": {
  "kernelspec": {
   "display_name": "Python 3 (ipykernel)",
   "language": "python",
   "name": "python3"
  },
  "language_info": {
   "codemirror_mode": {
    "name": "ipython",
    "version": 3
   },
   "file_extension": ".py",
   "mimetype": "text/x-python",
   "name": "python",
   "nbconvert_exporter": "python",
   "pygments_lexer": "ipython3",
   "version": "3.12.4"
  }
 },
 "nbformat": 4,
 "nbformat_minor": 4
}
