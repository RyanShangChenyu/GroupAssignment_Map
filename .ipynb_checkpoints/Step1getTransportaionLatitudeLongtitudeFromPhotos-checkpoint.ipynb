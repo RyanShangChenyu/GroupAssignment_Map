{
 "cells": [
  {
   "cell_type": "markdown",
   "metadata": {},
   "source": [
    "# 提取交通地点的照片经纬度\n"
   ]
  },
  {
   "cell_type": "code",
   "execution_count": 25,
   "metadata": {},
   "outputs": [],
   "source": [
    "import pandas as pd\n",
    "\n",
    "import os\n",
    "\n",
    "import exifread\n",
    "from fractions import Fraction"
   ]
  },
  {
   "cell_type": "markdown",
   "metadata": {},
   "source": [
    "## 从图像的EXIF信息中解析经纬度"
   ]
  },
  {
   "cell_type": "code",
   "execution_count": 26,
   "metadata": {},
   "outputs": [],
   "source": [
    "def get_coordinates(file_path):\n",
    "    '''\n",
    "    输入图片文件路径，输出经纬度\n",
    "    '''\n",
    "    try:\n",
    "        with open(file_path, 'rb') as f:\n",
    "            tags = exifread.process_file(f)\n",
    "            \n",
    "            # 打印所有 EXIF 标签以进行调试\n",
    "            print(\"EXIF 标签:\", tags)\n",
    "            \n",
    "            # 检查是否存在 GPS 标签\n",
    "            if 'GPS GPSLatitude' not in tags or 'GPS GPSLongitude' not in tags:\n",
    "                print(\"缺少 GPS 信息\")\n",
    "                return None, None, None\n",
    "            \n",
    "            Latitude_list = tags['GPS GPSLatitude'].values\n",
    "            Longitude_list = tags['GPS GPSLongitude'].values\n",
    "            LatitudeRef = tags['GPS GPSLatitudeRef'].values\n",
    "            LongitudeRef = tags['GPS GPSLongitudeRef'].values\n",
    "            Time = tags.get('EXIF DateTimeOriginal', '未知时间').values\n",
    "            \n",
    "            # 检查纬度和经度列表的长度\n",
    "            print(\"纬度列表:\", Latitude_list)\n",
    "            print(\"经度列表:\", Longitude_list)\n",
    "            \n",
    "            if len(Latitude_list) < 3 or len(Longitude_list) < 3:\n",
    "                print(\"纬度或经度数据不完整\")\n",
    "                return None, None, None\n",
    "            \n",
    "            # 处理纬度\n",
    "            Latitude = convert_to_degrees(Latitude_list)\n",
    "            # 根据纬度参考值确定纬度符号\n",
    "            if LatitudeRef != 'N':\n",
    "                Latitude = -Latitude\n",
    "            \n",
    "            # 处理经度\n",
    "            Longitude = convert_to_degrees(Longitude_list)\n",
    "            # 根据经度参考值确定经度符号\n",
    "            if LongitudeRef != 'E':\n",
    "                Longitude = -Longitude\n",
    "            \n",
    "            return Latitude, Longitude, Time\n",
    "    except FileNotFoundError:\n",
    "        print(f\"文件未找到: {file_path}\")\n",
    "        return None, None, None\n",
    "    except KeyError as e:\n",
    "        print(f\"缺少 EXIF 标签: {e}\")\n",
    "        return None, None, None\n",
    "    except Exception as e:\n",
    "        print(f\"发生错误: {e}\")\n",
    "        return None, None, None\n",
    "\n",
    "def convert_to_degrees(value):\n",
    "    \"\"\"将分数形式的 GPS 数据转换为度数\"\"\"\n",
    "    # 处理度\n",
    "    d = float(Fraction(value[0]))\n",
    "\n",
    "    # 处理分\n",
    "    if len(value) > 1:\n",
    "        m = float(Fraction(value[1]))\n",
    "    else:\n",
    "        m = 0  # 如果没有分，设为 0\n",
    "\n",
    "    # 处理秒\n",
    "    if len(value) > 2:\n",
    "        s = float(Fraction(value[2]))\n",
    "    else:\n",
    "        s = 0  # 如果没有秒，设为 0\n",
    "\n",
    "    return d + (m / 60.0) + (s / 3600.0)\n",
    "\n",
    "# # 调用函数\n",
    "# result = get_coordinates('2024-11-02_154929.jpg')\n",
    "# if result:\n",
    "#     Latitude, Longitude, Time = result\n",
    "#     print('纬度:', Latitude, '经度:', Longitude, '时间:', Time)\n",
    "# else:\n",
    "#     print(\"未能获取坐标信息\")"
   ]
  },
  {
   "cell_type": "markdown",
   "metadata": {},
   "source": [
    "## 遍历每张照片，获取所有照片经纬度信息"
   ]
  },
  {
   "cell_type": "code",
   "execution_count": 27,
   "metadata": {},
   "outputs": [
    {
     "name": "stdout",
     "output_type": "stream",
     "text": [
      "['.ipynb_checkpoints', 'folium经纬度地理信息可视化.pptx', 'map-demo', 'My_Project：SchoolInformationMap', 'output', 'Transportation.csv', '【A】安装配置环境.ipynb', '【B】绘制第一个交互式地图.ipynb', '【C】配置地图参数.ipynb', '【D】实用地图插件.ipynb', '【E】趣味demo：找到地球另一端.ipynb', '【F1】在地图上绘制标记.ipynb', '【F2】在地图上绘制路线轨迹图.ipynb', '【F3】绘制点标记聚类图.ipynb', '【F4】绘制热力图.ipynb', '【F5】绘制分级统计图.ipynb', '【X1】高级用法.ipynb', '参考资料与扩展阅读.ipynb', '实战项目一：拍照地点分布地图', '实战项目三：波士顿犯罪事件热力图', '实战项目二：全球地震与板块运动分布', '实战项目五：纽约全天公交车可视化', '实战项目六：轨道交通数据可视化', '实战项目四：疫情小区分布', '版权及使用说明.txt']\n"
     ]
    }
   ],
   "source": [
    "print(os.listdir('.'))"
   ]
  },
  {
   "cell_type": "code",
   "execution_count": 28,
   "metadata": {},
   "outputs": [
    {
     "ename": "FileNotFoundError",
     "evalue": "[WinError 2] 系统找不到指定的文件。: 'images/'",
     "output_type": "error",
     "traceback": [
      "\u001b[1;31m---------------------------------------------------------------------------\u001b[0m",
      "\u001b[1;31mFileNotFoundError\u001b[0m                         Traceback (most recent call last)",
      "Cell \u001b[1;32mIn[28], line 2\u001b[0m\n\u001b[0;32m      1\u001b[0m \u001b[38;5;66;03m# 进入images目录\u001b[39;00m\n\u001b[1;32m----> 2\u001b[0m os\u001b[38;5;241m.\u001b[39mchdir(\u001b[38;5;124m'\u001b[39m\u001b[38;5;124mimages/\u001b[39m\u001b[38;5;124m'\u001b[39m)\n\u001b[0;32m      3\u001b[0m df_list \u001b[38;5;241m=\u001b[39m []  \u001b[38;5;66;03m# 创建一个列表来存储每个文件的信息\u001b[39;00m\n\u001b[0;32m      4\u001b[0m \u001b[38;5;28mprint\u001b[39m(os\u001b[38;5;241m.\u001b[39mlistdir(\u001b[38;5;124m'\u001b[39m\u001b[38;5;124m.\u001b[39m\u001b[38;5;124m'\u001b[39m))\n",
      "\u001b[1;31mFileNotFoundError\u001b[0m: [WinError 2] 系统找不到指定的文件。: 'images/'"
     ]
    }
   ],
   "source": [
    "# 进入images目录\n",
    "os.chdir('images/')\n",
    "df_list = []  # 创建一个列表来存储每个文件的信息\n",
    "print(os.listdir('.'))"
   ]
  },
  {
   "cell_type": "code",
   "execution_count": 20,
   "metadata": {},
   "outputs": [],
   "source": [
    "\n",
    "\n",
    "# for each in os.listdir():  # 遍历每个文件\n",
    "#     if each == '.ipynb_checkpoints':  # 忽略'.ipynb_checkpoints'文件夹\n",
    "#         continue\n",
    "#     try:\n",
    "#         coord = get_coordinates(each)\n",
    "#         # 将每个文件的信息作为字典添加到列表中\n",
    "#         df_list.append({'FileName': each, 'Latitude': coord[0], 'Longitude': coord[1], 'Time': coord[2]})\n",
    "#     except Exception as e:\n",
    "#         print('文件{}无法解析: {}'.format(each, e))\n",
    "\n",
    "for folder_path, subfolders, filenames in os.walk('Transportation/'):\n",
    "    for each in filenames:\n",
    "        if each.endswith('.ipynb_checkpoints'):  # 忽略 '.ipynb_checkpoints' 文件\n",
    "            continue\n",
    "        file_path = os.path.join(folder_path, each)  # 获取文件的完整路径\n",
    "        try:\n",
    "            coord = get_coordinates(file_path)\n",
    "            if coord is not None:\n",
    "                # 将每个文件的信息作为字典添加到列表中\n",
    "                df_list.append({\n",
    "                    'FolderName': os.path.basename(folder_path),  # 添加文件夹名\n",
    "                    'FileName': each,\n",
    "                    'Latitude': coord[0],\n",
    "                    'Longitude': coord[1],\n",
    "                    'Time': coord[2]\n",
    "                })\n",
    "            else:\n",
    "                print(f\"文件 {each} 缺少 GPS 信息\")\n",
    "        except Exception as e:\n",
    "            print(f'文件{each}无法解析: {e}')\n",
    "\n",
    "# 最后将列表转换为 DataFrame\n",
    "df = pd.DataFrame(df_list)"
   ]
  },
  {
   "cell_type": "code",
   "execution_count": 21,
   "metadata": {},
   "outputs": [
    {
     "name": "stdout",
     "output_type": "stream",
     "text": [
      "['.ipynb_checkpoints', '1.getLatitudeLongtitudeFromPhotos-Copy1.ipynb', '2.DrawMap.ipynb', 'FileName&Infomation.csv', 'images', 'Step1getTransportaionLatitudeLongtitudeFromPhotos.ipynb', 'Transportation.csv', '拍照地点分布地图.html']\n"
     ]
    }
   ],
   "source": [
    "print(os.listdir('.'))"
   ]
  },
  {
   "cell_type": "code",
   "execution_count": 22,
   "metadata": {},
   "outputs": [
    {
     "data": {
      "text/html": [
       "<div>\n",
       "<style scoped>\n",
       "    .dataframe tbody tr th:only-of-type {\n",
       "        vertical-align: middle;\n",
       "    }\n",
       "\n",
       "    .dataframe tbody tr th {\n",
       "        vertical-align: top;\n",
       "    }\n",
       "\n",
       "    .dataframe thead th {\n",
       "        text-align: right;\n",
       "    }\n",
       "</style>\n",
       "<table border=\"1\" class=\"dataframe\">\n",
       "  <thead>\n",
       "    <tr style=\"text-align: right;\">\n",
       "      <th></th>\n",
       "      <th>FolderName</th>\n",
       "      <th>FileName</th>\n",
       "      <th>Latitude</th>\n",
       "      <th>Longitude</th>\n",
       "      <th>Time</th>\n",
       "    </tr>\n",
       "  </thead>\n",
       "  <tbody>\n",
       "    <tr>\n",
       "      <th>0</th>\n",
       "      <td>Transportation/Bus Station</td>\n",
       "      <td>Bus Station_1.jpg</td>\n",
       "      <td>None</td>\n",
       "      <td>None</td>\n",
       "      <td>None</td>\n",
       "    </tr>\n",
       "    <tr>\n",
       "      <th>1</th>\n",
       "      <td>Transportation/Bus Station</td>\n",
       "      <td>Bus Station_2.jpg</td>\n",
       "      <td>None</td>\n",
       "      <td>None</td>\n",
       "      <td>None</td>\n",
       "    </tr>\n",
       "    <tr>\n",
       "      <th>2</th>\n",
       "      <td>Transportation/Cross HarboUr Tunnel BBI</td>\n",
       "      <td>Cross HarboUr Tunnel BBI_1.jpg</td>\n",
       "      <td>None</td>\n",
       "      <td>None</td>\n",
       "      <td>None</td>\n",
       "    </tr>\n",
       "    <tr>\n",
       "      <th>3</th>\n",
       "      <td>Transportation/Cross HarboUr Tunnel BBI</td>\n",
       "      <td>Cross HarboUr Tunnel BBI_2.jpg</td>\n",
       "      <td>None</td>\n",
       "      <td>None</td>\n",
       "      <td>None</td>\n",
       "    </tr>\n",
       "    <tr>\n",
       "      <th>4</th>\n",
       "      <td>Transportation/Cross HarboUr Tunnel BBI</td>\n",
       "      <td>Cross HarboUr Tunnel BBI_3.jpg</td>\n",
       "      <td>None</td>\n",
       "      <td>None</td>\n",
       "      <td>None</td>\n",
       "    </tr>\n",
       "    <tr>\n",
       "      <th>5</th>\n",
       "      <td>Transportation/Hung Hom Station</td>\n",
       "      <td>Hung Hom Station_1.jpg</td>\n",
       "      <td>None</td>\n",
       "      <td>None</td>\n",
       "      <td>None</td>\n",
       "    </tr>\n",
       "    <tr>\n",
       "      <th>6</th>\n",
       "      <td>Transportation/Hung Hom Station</td>\n",
       "      <td>Hung Hom Station_2.jpg</td>\n",
       "      <td>None</td>\n",
       "      <td>None</td>\n",
       "      <td>None</td>\n",
       "    </tr>\n",
       "  </tbody>\n",
       "</table>\n",
       "</div>"
      ],
      "text/plain": [
       "                                FolderName                        FileName  \\\n",
       "0               Transportation/Bus Station               Bus Station_1.jpg   \n",
       "1               Transportation/Bus Station               Bus Station_2.jpg   \n",
       "2  Transportation/Cross HarboUr Tunnel BBI  Cross HarboUr Tunnel BBI_1.jpg   \n",
       "3  Transportation/Cross HarboUr Tunnel BBI  Cross HarboUr Tunnel BBI_2.jpg   \n",
       "4  Transportation/Cross HarboUr Tunnel BBI  Cross HarboUr Tunnel BBI_3.jpg   \n",
       "5          Transportation/Hung Hom Station          Hung Hom Station_1.jpg   \n",
       "6          Transportation/Hung Hom Station          Hung Hom Station_2.jpg   \n",
       "\n",
       "  Latitude Longitude  Time  \n",
       "0     None      None  None  \n",
       "1     None      None  None  \n",
       "2     None      None  None  \n",
       "3     None      None  None  \n",
       "4     None      None  None  \n",
       "5     None      None  None  \n",
       "6     None      None  None  "
      ]
     },
     "execution_count": 22,
     "metadata": {},
     "output_type": "execute_result"
    }
   ],
   "source": [
    "df"
   ]
  },
  {
   "cell_type": "code",
   "execution_count": 23,
   "metadata": {},
   "outputs": [
    {
     "name": "stdout",
     "output_type": "stream",
     "text": [
      "['.ipynb_checkpoints', 'folium经纬度地理信息可视化.pptx', 'map-demo', 'My_Project：SchoolInformationMap', 'output', 'Transportation.csv', '【A】安装配置环境.ipynb', '【B】绘制第一个交互式地图.ipynb', '【C】配置地图参数.ipynb', '【D】实用地图插件.ipynb', '【E】趣味demo：找到地球另一端.ipynb', '【F1】在地图上绘制标记.ipynb', '【F2】在地图上绘制路线轨迹图.ipynb', '【F3】绘制点标记聚类图.ipynb', '【F4】绘制热力图.ipynb', '【F5】绘制分级统计图.ipynb', '【X1】高级用法.ipynb', '参考资料与扩展阅读.ipynb', '实战项目一：拍照地点分布地图', '实战项目三：波士顿犯罪事件热力图', '实战项目二：全球地震与板块运动分布', '实战项目五：纽约全天公交车可视化', '实战项目六：轨道交通数据可视化', '实战项目四：疫情小区分布', '版权及使用说明.txt']\n"
     ]
    }
   ],
   "source": [
    "# 返回上一级目录\n",
    "os.chdir('../')\n",
    "print(os.listdir('.'))"
   ]
  },
  {
   "cell_type": "markdown",
   "metadata": {},
   "source": [
    "## 保存照片文件名及经纬度表格"
   ]
  },
  {
   "cell_type": "code",
   "execution_count": 24,
   "metadata": {},
   "outputs": [],
   "source": [
    "df.to_csv('Transportation.csv', index=False, encoding='utf-8')"
   ]
  },
  {
   "cell_type": "code",
   "execution_count": null,
   "metadata": {},
   "outputs": [],
   "source": []
  },
  {
   "cell_type": "code",
   "execution_count": null,
   "metadata": {},
   "outputs": [],
   "source": []
  }
 ],
 "metadata": {
  "kernelspec": {
   "display_name": "Python 3 (ipykernel)",
   "language": "python",
   "name": "python3"
  },
  "language_info": {
   "codemirror_mode": {
    "name": "ipython",
    "version": 3
   },
   "file_extension": ".py",
   "mimetype": "text/x-python",
   "name": "python",
   "nbconvert_exporter": "python",
   "pygments_lexer": "ipython3",
   "version": "3.12.4"
  }
 },
 "nbformat": 4,
 "nbformat_minor": 4
}
